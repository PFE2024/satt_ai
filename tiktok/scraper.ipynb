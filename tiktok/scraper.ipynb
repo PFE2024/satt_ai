{
 "cells": [
  {
   "attachments": {},
   "cell_type": "markdown",
   "metadata": {},
   "source": [
    " # AI METHODE"
   ]
  },
  {
   "cell_type": "code",
   "execution_count": 1,
   "metadata": {},
   "outputs": [],
   "source": [
    "# Create a Linkedin app to get your Linkedin credentials\n",
    "## Please check the documentaion for more details.\n",
    "TIKTOK_KEY='awvdj7d878ehk0zl'\n",
    "TIKTOK_SECRET='faa31e6ea3cef7dfc0888110168754d1'\n",
    "\n",
    "# Create a TIKTOK app to get your Linkedin credentials\n",
    "TIKTOK_ACCESS_TOKEN_KEY='awykvnk5xvj06qxl'\n",
    "TIKTOK_ACCESS_TOKEN_SECRET='9a6880fc55b7a3099638401423084da6'"
   ]
  },
  {
   "cell_type": "code",
   "execution_count": null,
   "metadata": {},
   "outputs": [],
   "source": [
    "# voir  test .py\n",
    "\n",
    "from TikTokApi import TikTokApi as tiktok\n",
    "\n",
    "import json\n",
    "\n",
    "import pandas as pd\n",
    "\n",
    "import sys\n",
    "# Get cookie data\n",
    "verifyFp = \"verify_le9rb5f3_SKVVDvZX_FXMx_4Wjy_8Gcm_XnP8yEnwhQ1c\"\n",
    "# Setup instance\n",
    "api = tiktok(custom_verifyFp=verifyFp)\n",
    "# Get data by hashtag\n",
    "# trending = api.by_hashtag(hashtag)\n",
    "# # Process data\n",
    "# flattened_data = process_results(trending)\n",
    "# # Convert the preprocessed data to a dataframe\n",
    "# df = pd.DataFrame.from_dict(flattened_data, orient='index')\n",
    "# df.to_csv('tiktokdata.csv', index=False)"
   ]
  },
  {
   "cell_type": "code",
   "execution_count": null,
   "metadata": {},
   "outputs": [],
   "source": [
    "\n",
    "from TikTokApi import TikTokApi\n",
    "\n",
    "with TikTokApi() as api:\n",
    "    user = api.user(username=\"therock\")\n",
    "\n",
    "    for video in user.videos():\n",
    "        print(video.id)\n",
    "\n",
    "    for liked_video in api.user(username=\"public_likes\").videos():\n",
    "        print(liked_video.id)"
   ]
  },
  {
   "attachments": {},
   "cell_type": "markdown",
   "metadata": {},
   "source": [
    "# SELINIUM METHODE "
   ]
  },
  {
   "cell_type": "code",
   "execution_count": 1,
   "metadata": {},
   "outputs": [],
   "source": [
    "\n",
    "try:\n",
    "    import argparse\n",
    "    import json\n",
    "    import selenium\n",
    "    from selenium import webdriver\n",
    "    from selenium.webdriver.support.ui import WebDriverWait\n",
    "    from selenium.webdriver.chrome.options import Options as ChromeOptions\n",
    "    from selenium.webdriver.firefox.options import Options as FirefoxOptions\n",
    "    from selenium.webdriver.common.by import By\n",
    "    from selenium.webdriver.support import expected_conditions as EC\n",
    "    from fake_headers import Headers\n",
    "    from webdriver_manager.chrome import ChromeDriverManager\n",
    "    from webdriver_manager.firefox import GeckoDriverManager\n",
    "except ModuleNotFoundError:\n",
    "    print(\"Please download dependencies from requirement.txt\")\n",
    "except Exception as ex:\n",
    "    print(ex)\n"
   ]
  },
  {
   "cell_type": "code",
   "execution_count": 2,
   "metadata": {},
   "outputs": [
    {
     "name": "stderr",
     "output_type": "stream",
     "text": [
      "/tmp/ipykernel_79252/3717453796.py:18: DeprecationWarning: executable_path has been deprecated, please pass in a Service object\n",
      "  driver = webdriver.Chrome(ChromeDriverManager().install(),options=browser_option) #chromedriver's path in first argument\n"
     ]
    },
    {
     "name": "stdout",
     "output_type": "stream",
     "text": [
      "{\"sec_id\": \"MS4wLjABAAAA5NIAX2H8SVn3xxBwXH1LzSNMuIVLMnzd14vZ5ra1g0tcReA9IdwQyTFPvl9Jmz2Z\", \"id\": \"7151149386563077125\", \"is_secret\": false, \"username\": \"ala.chebbi\", \"bio\": \"\\u0639\\u0644\\u0627\\u0621 \\u0627\\u0644\\u0634\\u0627\\u0628\\u064a\\u2764\\u2764\\ud83e\\udef6\\n    \\u064a\\u0648\\u0644\\u064a\\u0648\\u0633 \\u0642\\u064a\\u0635\\u0631\\ud83d\\udc76\\ud83d\\udc76\\u2764\\ud83e\\udef6\\n\\u0631\\u064a\\u0647\\u0627\\u0645 \\u0628\\u0646 \\u0639\\u0644\\u064a\\u0629 \\u2764\\u2764\\ud83e\\udef6\", \"avatar_image\": \"https://p16-sign-va.tiktokcdn.com/tos-maliva-avt-0068/6d9c1ac5f37b1a47d61f9f76abc61f54~c5_720x720.jpeg?x-expires=1679061600&x-signature=NbRMziVfamoNcPpIKPVlyc6ifLY%3D\", \"following\": 0, \"followers\": 67800, \"hearts\": 387000, \"heart_count\": 387000, \"video_count\": 253, \"is_verified\": false}\n"
     ]
    }
   ],
   "source": [
    "\n",
    "class Tiktok:\n",
    "\n",
    "    def scrap(username):\n",
    "        try:\n",
    "            URL = 'https://tiktok.com/@{}'.format(username)\n",
    "\n",
    "            try:\n",
    "                browser_option = ChromeOptions()\n",
    "                ua = Headers().generate()      #fake user agent\n",
    "                browser_option.add_argument('--headless')\n",
    "                browser_option.add_argument('--disable-extensions')\n",
    "                browser_option.add_argument('--incognito')\n",
    "                browser_option.add_argument('--disable-gpu')\n",
    "                browser_option.add_argument('--log-level=3')\n",
    "                browser_option.add_argument(f'user-agent={ua}')\n",
    "                browser_option.add_argument('--disable-notifications')\n",
    "                browser_option.add_argument('--disable-popup-blocking')\n",
    "                driver = webdriver.Chrome(ChromeDriverManager().install(),options=browser_option) #chromedriver's path in first argument\n",
    "                driver.get(URL)\n",
    "            except AttributeError:\n",
    "                print(\"Driver is not set\")\n",
    "                exit()\n",
    "            wait = WebDriverWait(driver, 10)\n",
    "            element = wait.until(EC.title_contains(\"@{}\".format(username)))\n",
    "            state_data = driver.execute_script(\"return window['SIGI_STATE']\")\n",
    "            user_data = state_data['UserModule']['users'][username.lower()]\n",
    "            stats_data = state_data['UserModule']['stats'][username.lower()]\n",
    "            sec_id = user_data['secUid']\n",
    "            user_id = user_data['id']\n",
    "            is_secret = user_data['secret']\n",
    "            unique_name = user_data['uniqueId']\n",
    "            signature = user_data['signature']\n",
    "            avatar = user_data['avatarMedium']\n",
    "            following = stats_data['followingCount']\n",
    "            followers = stats_data['followerCount']\n",
    "            heart = stats_data['heart']\n",
    "            heart_count = stats_data['heartCount']\n",
    "            video = stats_data['videoCount']\n",
    "            is_verified = user_data['verified']\n",
    "\n",
    "\n",
    "            profile_data =  {\n",
    "                    'sec_id' : sec_id,\n",
    "                    'id' : user_id,\n",
    "                    'is_secret' : is_secret,\n",
    "                    'username' : unique_name,\n",
    "                    'bio' : signature,\n",
    "                    'avatar_image' : avatar,\n",
    "                    'following' : following,\n",
    "                    'followers' : followers,\n",
    "                    'hearts' : heart,\n",
    "                    'heart_count' : heart_count,\n",
    "                    'video_count' : video,\n",
    "                    'is_verified' : is_verified,\n",
    "                }\n",
    "            driver.close()\n",
    "            driver.quit()\n",
    "            return json.dumps(profile_data)\n",
    "        except Exception as ex:\n",
    "            driver.close()\n",
    "            driver.quit()\n",
    "            print(ex)\n",
    "print(Tiktok.scrap('ala.chebbi'))\n",
    "\n",
    "   #last updated - 18th March, 2022"
   ]
  }
 ],
 "metadata": {
  "kernelspec": {
   "display_name": "env",
   "language": "python",
   "name": "python3"
  },
  "language_info": {
   "codemirror_mode": {
    "name": "ipython",
    "version": 3
   },
   "file_extension": ".py",
   "mimetype": "text/x-python",
   "name": "python",
   "nbconvert_exporter": "python",
   "pygments_lexer": "ipython3",
   "version": "3.8.10"
  },
  "orig_nbformat": 4,
  "vscode": {
   "interpreter": {
    "hash": "19d2761fa1ea6cb7e49546003c2aca332118a5f9cc2218a9daa5172f81fee8a0"
   }
  }
 },
 "nbformat": 4,
 "nbformat_minor": 2
}

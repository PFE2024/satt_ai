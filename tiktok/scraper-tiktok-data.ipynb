{
 "cells": [
  {
   "cell_type": "code",
   "execution_count": null,
   "metadata": {},
   "outputs": [],
   "source": [
    "from selenium import webdriver\n",
    "import time\n",
    "from bs4 import BeautifulSoup\n",
    "import os\n",
    "import pandas as pd \n",
    "print(\"Open Chrome browser\")\n",
    "driver = webdriver.Chrome()\n",
    "# the tiktok link\n",
    "driver.get(\"https://www.tiktok.com/@ala.chebbi\")\n",
    "\n",
    "time.sleep(1)"
   ]
  },
  {
   "cell_type": "code",
   "execution_count": null,
   "metadata": {},
   "outputs": [],
   "source": [
    "scroll_pause_time = 1\n",
    "screen_height = driver.execute_script(\"return window.screen.height;\")\n",
    "i = 1\n",
    "scroll_count=6\n",
    "print(\"Scrolling page\")\n",
    "while True:\n",
    "  driver.execute_script(\"window.scrollTo(0, {screen_height}*{i});\".format(screen_height=screen_height, i=i))\n",
    "  scroll_count +=9\n",
    "  i += 1\n",
    "  print(scroll_count)\n",
    "  time.sleep(3)  \n",
    "  scroll_height = driver.execute_script(\"return document.body.scrollHeight;\")   \n",
    "  if (screen_height) * i > scroll_height or scroll_count >= 200:\n",
    "     break \n"
   ]
  },
  {
   "cell_type": "code",
   "execution_count": null,
   "metadata": {},
   "outputs": [],
   "source": [
    "soup = BeautifulSoup(driver.page_source, \"html.parser\")\n",
    "videos = soup.find_all(\"div\", {\"class\": \"tiktok-yz6ijl-DivWrapper e1cg0wnj1\"})"
   ]
  },
  {
   "cell_type": "code",
   "execution_count": null,
   "metadata": {},
   "outputs": [],
   "source": [
    "print(type(videos))\n",
    "for video in videos:\n",
    "    print(video.a[\"href\"])"
   ]
  }
 ],
 "metadata": {
  "language_info": {
   "name": "python"
  },
  "orig_nbformat": 4
 },
 "nbformat": 4,
 "nbformat_minor": 2
}

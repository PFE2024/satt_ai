{
 "cells": [
  {
   "attachments": {},
   "cell_type": "markdown",
   "metadata": {},
   "source": [
    "# import"
   ]
  },
  {
   "cell_type": "code",
   "execution_count": 2,
   "metadata": {},
   "outputs": [],
   "source": [
    "import numpy as np # linear algebra\n",
    "import pandas as pd # data processing, CSV file I/O (e.g. pd.read_csv)\n",
    "from sklearn.model_selection import train_test_split\n",
    "from sklearn.ensemble import RandomForestClassifier\n",
    "import gender_guesser.detector as gender\n",
    "\n",
    "import matplotlib.pyplot as plt \n",
    "from datetime import datetime\n",
    "from sklearn import metrics\n",
    "import seaborn as sns\n",
    "import matplotlib.pyplot as plt\n",
    "from sklearn.metrics import classification_report\n",
    "from sklearn.pipeline import Pipeline\n",
    "from sklearn.decomposition import PCA \n",
    "from sklearn.discriminant_analysis import StandardScaler \n",
    "from imblearn.over_sampling import SMOTE"
   ]
  },
  {
   "attachments": {},
   "cell_type": "markdown",
   "metadata": {},
   "source": [
    "\n",
    "# result"
   ]
  },
  {
   "attachments": {},
   "cell_type": "markdown",
   "metadata": {},
   "source": [
    "all the data"
   ]
  },
  {
   "cell_type": "code",
   "execution_count": 2,
   "metadata": {},
   "outputs": [
    {
     "name": "stdout",
     "output_type": "stream",
     "text": [
      "Accuracy: 92.29%\n",
      "\n",
      " Training Accuracy score: 0.9995805369127517\n",
      "Testing Accuracy score: 0.9229480737018425\n",
      "classification_report \n",
      "               precision    recall  f1-score   support\n",
      "\n",
      "         0.0       0.89      0.92      0.90       239\n",
      "         1.0       0.94      0.93      0.94       358\n",
      "\n",
      "    accuracy                           0.92       597\n",
      "   macro avg       0.92      0.92      0.92       597\n",
      "weighted avg       0.92      0.92      0.92       597\n",
      "\n"
     ]
    },
    {
     "data": {
      "image/png": "[encoded data removed]",
      "text/plain": [
       "<Figure size 640x480 with 2 Axes>"
      ]
     },
     "metadata": {},
     "output_type": "display_data"
    }
   ],
   "source": [
    "import numpy as np # linear algebra\n",
    "import pandas as pd # data processing, CSV file I/O (e.g. pd.read_csv)\n",
    "from sklearn.model_selection import train_test_split\n",
    "from sklearn.ensemble import RandomForestClassifier\n",
    "import gender_guesser.detector as gender\n",
    "\n",
    "import matplotlib.pyplot as plt \n",
    "from datetime import datetime\n",
    "from sklearn import metrics\n",
    "import seaborn as sns\n",
    "import matplotlib.pyplot as plt\n",
    "from sklearn.metrics import classification_report\n",
    "from imblearn.under_sampling import TomekLinks\n",
    "df = pd.read_csv('./Data/cleandata.csv')\n",
    "# tl = TomekLinks()\n",
    "x=df.iloc[:, :-1]\n",
    "y = df.IsABot.values.tolist()\n",
    "# x, y = tl.fit_resample(x, y)\n",
    "\n",
    "x_train, x_test, y_train, y_test = train_test_split(x, y, test_size=0.2, random_state=42,stratify=y)\n",
    "\n",
    "clf= RandomForestClassifier(random_state=42)\n",
    "clf.fit(x_train,y_train)\n",
    "score = clf.score(x_test, y_test)\n",
    "print(\"Accuracy: %.2f%%\" % (score * 100))\n",
    "y_pred_train = clf.predict(x_train)\n",
    "y_pred_test = clf.predict(x_test)\n",
    "print(\"\\n Training Accuracy score:\",metrics.accuracy_score(y_train, y_pred_train))\n",
    "print(\"Testing Accuracy score:\",metrics.accuracy_score(y_test, y_pred_test))\n",
    "print(\"classification_report \\n \"+classification_report(y_test, y_pred_test))\n",
    "cm = metrics.confusion_matrix(y_test, y_pred_test)\n",
    "# print('Confusion matrix\\n', cm)\n",
    "\n",
    "cm_matrixNB = pd.DataFrame(data=cm, )\n",
    "sns.heatmap(cm_matrixNB, annot=True, fmt='d', cmap='YlGnBu')\n",
    "plt.show()\n",
    "   "
   ]
  },
  {
   "attachments": {},
   "cell_type": "markdown",
   "metadata": {},
   "source": [
    "- random undersimpling"
   ]
  },
  {
   "cell_type": "code",
   "execution_count": 3,
   "metadata": {},
   "outputs": [
    {
     "name": "stdout",
     "output_type": "stream",
     "text": [
      "Accuracy: 91.00%\n",
      "\n",
      " Training Accuracy score: 0.9989539748953975\n",
      "Testing Accuracy score: 0.9100418410041841\n",
      "classification_report \n",
      "               precision    recall  f1-score   support\n",
      "\n",
      "         0.0       0.89      0.94      0.91       239\n",
      "         1.0       0.93      0.88      0.91       239\n",
      "\n",
      "    accuracy                           0.91       478\n",
      "   macro avg       0.91      0.91      0.91       478\n",
      "weighted avg       0.91      0.91      0.91       478\n",
      "\n"
     ]
    },
    {
     "data": {
      "image/png": "[encoded data removed]",
      "text/plain": [
       "<Figure size 640x480 with 2 Axes>"
      ]
     },
     "metadata": {},
     "output_type": "display_data"
    }
   ],
   "source": [
    "\n",
    "import numpy as np # linear algebra\n",
    "import pandas as pd # data processing, CSV file I/O (e.g. pd.read_csv)\n",
    "from sklearn.model_selection import train_test_split\n",
    "from sklearn.ensemble import RandomForestClassifier\n",
    "import gender_guesser.detector as gender\n",
    "import matplotlib.pyplot as plt \n",
    "from datetime import datetime\n",
    "from sklearn import metrics\n",
    "import seaborn as sns\n",
    "import matplotlib.pyplot as plt\n",
    "from sklearn.metrics import classification_report\n",
    "from imblearn.over_sampling import SMOTE\n",
    "data1 = pd.read_csv('./Data/cleandata.csv')\n",
    "\n",
    "df1=data1[data1.IsABot== 1].head(1195)\n",
    "df2=data1[data1.IsABot== 0].head(1195)\n",
    "df = pd.concat([df1, df2], ignore_index=True)\n",
    "x=df.iloc[:, :-1]\n",
    "y = df.IsABot.values.tolist()\n",
    "x_train, x_test, y_train, y_test = train_test_split(x, y, test_size=0.2, random_state=42,stratify=y)\n",
    "pipeline = Pipeline([\n",
    "   \n",
    "    ('rf',  RandomForestClassifier(random_state=42)) # Training a random forest classifier on the data\n",
    "])\n",
    "\n",
    "# Train the pipeline on the data\n",
    "pipeline.fit(x_train, y_train)\n",
    "score = pipeline.score(x_test, y_test)\n",
    "print(\"Accuracy: %.2f%%\" % (score * 100))\n",
    "y_pred_train = pipeline.predict(x_train)\n",
    "y_pred_test = pipeline.predict(x_test)\n",
    "print(\"\\n Training Accuracy score:\",metrics.accuracy_score(y_train, y_pred_train))\n",
    "print(\"Testing Accuracy score:\",metrics.accuracy_score(y_test, y_pred_test))\n",
    "print(\"classification_report \\n \"+classification_report(y_test, y_pred_test))\n",
    "cm = metrics.confusion_matrix(y_test, y_pred_test)\n",
    "# print('Confusion matrix\\n', cm)\n",
    "\n",
    "cm_matrixNB = pd.DataFrame(data=cm, )\n",
    "sns.heatmap(cm_matrixNB, annot=True, fmt='d', cmap='YlGnBu')\n",
    "plt.show()"
   ]
  },
  {
   "attachments": {},
   "cell_type": "markdown",
   "metadata": {},
   "source": [
    "- random undersimpling + StandardScaler"
   ]
  },
  {
   "cell_type": "code",
   "execution_count": 4,
   "metadata": {},
   "outputs": [
    {
     "name": "stdout",
     "output_type": "stream",
     "text": [
      "Accuracy: 84.52%\n",
      "\n",
      " Training Accuracy score: 0.9989539748953975\n",
      "Testing Accuracy score: 0.8451882845188284\n",
      "classification_report \n",
      "               precision    recall  f1-score   support\n",
      "\n",
      "         0.0       0.84      0.85      0.85       239\n",
      "         1.0       0.85      0.84      0.84       239\n",
      "\n",
      "    accuracy                           0.85       478\n",
      "   macro avg       0.85      0.85      0.85       478\n",
      "weighted avg       0.85      0.85      0.85       478\n",
      "\n"
     ]
    },
    {
     "data": {
      "image/png": "[encoded data removed]",
      "text/plain": [
       "<Figure size 640x480 with 2 Axes>"
      ]
     },
     "metadata": {},
     "output_type": "display_data"
    }
   ],
   "source": [
    "\n",
    "import numpy as np # linear algebra\n",
    "import pandas as pd # data processing, CSV file I/O (e.g. pd.read_csv)\n",
    "from sklearn.model_selection import train_test_split\n",
    "from sklearn.ensemble import RandomForestClassifier\n",
    "import gender_guesser.detector as gender\n",
    "import matplotlib.pyplot as plt \n",
    "from datetime import datetime\n",
    "from sklearn import metrics\n",
    "import seaborn as sns\n",
    "import matplotlib.pyplot as plt\n",
    "from sklearn.metrics import classification_report\n",
    "from imblearn.over_sampling import SMOTE\n",
    "data1 = pd.read_csv('./Data/cleandata.csv')\n",
    "\n",
    "df1=data1[data1.IsABot== 1].head(1195)\n",
    "df2=data1[data1.IsABot== 0].head(1195)\n",
    "df = pd.concat([df1, df2], ignore_index=True)\n",
    "x=df.iloc[:, :-1]\n",
    "y = df.IsABot.values.tolist()\n",
    "x_train, x_test, y_train, y_test = train_test_split(x, y, test_size=0.2, random_state=42,stratify=y)\n",
    "pipeline = Pipeline([\n",
    "    ('scaler', StandardScaler()), # Standardizing the data\n",
    "    ('pca', PCA()), # Transforming the data with PCA\n",
    "    ('rf',  RandomForestClassifier(random_state=42)) # Training a random forest classifier on the data\n",
    "])\n",
    "\n",
    "# Train the pipeline on the data\n",
    "pipeline.fit(x_train, y_train)\n",
    "score = pipeline.score(x_test, y_test)\n",
    "print(\"Accuracy: %.2f%%\" % (score * 100))\n",
    "y_pred_train = pipeline.predict(x_train)\n",
    "y_pred_test = pipeline.predict(x_test)\n",
    "print(\"\\n Training Accuracy score:\",metrics.accuracy_score(y_train, y_pred_train))\n",
    "print(\"Testing Accuracy score:\",metrics.accuracy_score(y_test, y_pred_test))\n",
    "print(\"classification_report \\n \"+classification_report(y_test, y_pred_test))\n",
    "cm = metrics.confusion_matrix(y_test, y_pred_test)\n",
    "# print('Confusion matrix\\n', cm)\n",
    "\n",
    "cm_matrixNB = pd.DataFrame(data=cm, )\n",
    "sns.heatmap(cm_matrixNB, annot=True, fmt='d', cmap='YlGnBu')\n",
    "plt.show()"
   ]
  },
  {
   "attachments": {},
   "cell_type": "markdown",
   "metadata": {},
   "source": [
    "tomklink undersimpling"
   ]
  },
  {
   "cell_type": "code",
   "execution_count": 5,
   "metadata": {},
   "outputs": [
    {
     "name": "stdout",
     "output_type": "stream",
     "text": [
      "Accuracy: 93.80%\n",
      "\n",
      " Training Accuracy score: 0.9982773471145564\n",
      "Testing Accuracy score: 0.9380378657487092\n",
      "classification_report \n",
      "               precision    recall  f1-score   support\n",
      "\n",
      "         0.0       0.92      0.92      0.92       239\n",
      "         1.0       0.95      0.95      0.95       342\n",
      "\n",
      "    accuracy                           0.94       581\n",
      "   macro avg       0.94      0.94      0.94       581\n",
      "weighted avg       0.94      0.94      0.94       581\n",
      "\n"
     ]
    },
    {
     "data": {
      "image/png": "[encoded data removed]",
      "text/plain": [
       "<Figure size 640x480 with 2 Axes>"
      ]
     },
     "metadata": {},
     "output_type": "display_data"
    }
   ],
   "source": [
    "import numpy as np # linear algebra\n",
    "import pandas as pd\n",
    "\n",
    "from sklearn.model_selection import train_test_split\n",
    "from sklearn.ensemble import RandomForestClassifier\n",
    "import gender_guesser.detector as gender\n",
    "\n",
    "import matplotlib.pyplot as plt \n",
    "from datetime import datetime\n",
    "from sklearn import metrics\n",
    "import seaborn as sns\n",
    "import matplotlib.pyplot as plt\n",
    "from sklearn.metrics import classification_report\n",
    "from imblearn.under_sampling import TomekLinks\n",
    "\n",
    "df = pd.read_csv('./Data/cleandata.csv')\n",
    "\n",
    "tl = TomekLinks()\n",
    "x=df.iloc[:, :-1]\n",
    "y = df.IsABot.values.tolist()\n",
    "x, y = tl.fit_resample(x, y)\n",
    "\n",
    "x_train, x_test, y_train, y_test = train_test_split(x, y, test_size=0.2, random_state=42,stratify=y)\n",
    "\n",
    "clf = Pipeline([\n",
    "    \n",
    "    ('rf',  RandomForestClassifier(random_state=42)) # Training a random forest classifier on the data\n",
    "])\n",
    "\n",
    "# Train the pipeline on the data\n",
    "clf.fit(x_train, y_train)\n",
    "score = clf.score(x_test, y_test)\n",
    "print(\"Accuracy: %.2f%%\" % (score * 100))\n",
    "y_pred_train = clf.predict(x_train)\n",
    "y_pred_test = clf.predict(x_test)\n",
    "print(\"\\n Training Accuracy score:\",metrics.accuracy_score(y_train, y_pred_train))\n",
    "print(\"Testing Accuracy score:\",metrics.accuracy_score(y_test, y_pred_test))\n",
    "print(\"classification_report \\n \"+classification_report(y_test, y_pred_test))\n",
    "cm = metrics.confusion_matrix(y_test, y_pred_test)\n",
    "# print('Confusion matrix\\n', cm)\n",
    "\n",
    "cm_matrixNB = pd.DataFrame(data=cm, )\n",
    "sns.heatmap(cm_matrixNB, annot=True, fmt='d', cmap='YlGnBu')\n",
    "plt.show()\n",
    "   "
   ]
  },
  {
   "attachments": {},
   "cell_type": "markdown",
   "metadata": {},
   "source": [
    "tomlink + random undersimpling"
   ]
  },
  {
   "cell_type": "code",
   "execution_count": 6,
   "metadata": {},
   "outputs": [
    {
     "name": "stdout",
     "output_type": "stream",
     "text": [
      "Accuracy: 93.80%\n",
      "\n",
      " Training Accuracy score: 0.9982773471145564\n",
      "Testing Accuracy score: 0.9380378657487092\n",
      "classification_report \n",
      "               precision    recall  f1-score   support\n",
      "\n",
      "         0.0       0.92      0.92      0.92       239\n",
      "         1.0       0.95      0.95      0.95       342\n",
      "\n",
      "    accuracy                           0.94       581\n",
      "   macro avg       0.94      0.94      0.94       581\n",
      "weighted avg       0.94      0.94      0.94       581\n",
      "\n"
     ]
    },
    {
     "data": {
      "image/png": "[encoded data removed]",
      "text/plain": [
       "<Figure size 640x480 with 2 Axes>"
      ]
     },
     "metadata": {},
     "output_type": "display_data"
    }
   ],
   "source": [
    "import numpy as np # linear algebra\n",
    "import pandas as pd\n",
    "from sklearn.decomposition import PCA\n",
    "\n",
    "from sklearn.model_selection import train_test_split\n",
    "from sklearn.ensemble import RandomForestClassifier\n",
    "import gender_guesser.detector as gender\n",
    "\n",
    "import matplotlib.pyplot as plt \n",
    "from datetime import datetime\n",
    "from sklearn import metrics\n",
    "import seaborn as sns\n",
    "import matplotlib.pyplot as plt\n",
    "from sklearn.metrics import classification_report\n",
    "from imblearn.under_sampling import TomekLinks\n",
    "from sklearn.pipeline import Pipeline\n",
    "df = pd.read_csv('./Data/cleandata.csv')\n",
    "tl = TomekLinks()\n",
    "x=df.iloc[:, :-1]\n",
    "y = df.IsABot.values.tolist()\n",
    "\n",
    "x, y = tl.fit_resample(x, y)\n",
    "# Convert the list to a DataFrame\n",
    "y = pd.DataFrame({'IsABot': y})\n",
    "\n",
    "# Concatenate the two DataFrames\n",
    "data = pd.concat([x, y], axis=1)\n",
    "df1=data[data.IsABot== 1].head(11543)\n",
    "df2=data[data.IsABot== 0].head(11543)\n",
    "df = pd.concat([df1, df2], ignore_index=True)\n",
    "x=df.iloc[:, :-1]\n",
    "y = df.IsABot.values.tolist()\n",
    "x_train, x_test, y_train, y_test = train_test_split(x, y, test_size=0.2, random_state=42,stratify=y)\n",
    "\n",
    "clf = Pipeline([\n",
    "    \n",
    "    ('rf',  RandomForestClassifier(random_state=42)) # Training a random forest classifier on the data\n",
    "])\n",
    "\n",
    "# Train the pipeline on the data\n",
    "clf.fit(x_train, y_train)\n",
    "score = clf.score(x_test, y_test)\n",
    "print(\"Accuracy: %.2f%%\" % (score * 100))\n",
    "y_pred_train = clf.predict(x_train)\n",
    "y_pred_test = clf.predict(x_test)\n",
    "print(\"\\n Training Accuracy score:\",metrics.accuracy_score(y_train, y_pred_train))\n",
    "print(\"Testing Accuracy score:\",metrics.accuracy_score(y_test, y_pred_test))\n",
    "print(\"classification_report \\n \"+classification_report(y_test, y_pred_test))\n",
    "cm = metrics.confusion_matrix(y_test, y_pred_test)\n",
    "# print('Confusion matrix\\n', cm)\n",
    "\n",
    "cm_matrixNB = pd.DataFrame(data=cm, )\n",
    "sns.heatmap(cm_matrixNB, annot=True, fmt='d', cmap='YlGnBu')\n",
    "plt.show()"
   ]
  },
  {
   "attachments": {},
   "cell_type": "markdown",
   "metadata": {},
   "source": [
    "-oversimpling"
   ]
  },
  {
   "cell_type": "code",
   "execution_count": 7,
   "metadata": {},
   "outputs": [
    {
     "name": "stdout",
     "output_type": "stream",
     "text": [
      "Accuracy: 93.29%\n",
      "\n",
      " Training Accuracy score: 0.9989499474973749\n",
      "Testing Accuracy score: 0.9328671328671329\n",
      "classification_report \n",
      "               precision    recall  f1-score   support\n",
      "\n",
      "         0.0       0.92      0.95      0.93       358\n",
      "         1.0       0.95      0.91      0.93       357\n",
      "\n",
      "    accuracy                           0.93       715\n",
      "   macro avg       0.93      0.93      0.93       715\n",
      "weighted avg       0.93      0.93      0.93       715\n",
      "\n"
     ]
    },
    {
     "data": {
      "image/png": "[encoded data removed]",
      "text/plain": [
       "<Figure size 640x480 with 2 Axes>"
      ]
     },
     "metadata": {},
     "output_type": "display_data"
    }
   ],
   "source": [
    "\n",
    "import numpy as np # linear algebra\n",
    "import pandas as pd # data processing, CSV file I/O (e.g. pd.read_csv)\n",
    "from sklearn.model_selection import train_test_split\n",
    "from sklearn.ensemble import RandomForestClassifier\n",
    "import gender_guesser.detector as gender\n",
    "import matplotlib.pyplot as plt \n",
    "from datetime import datetime\n",
    "from sklearn import metrics\n",
    "import seaborn as sns\n",
    "import matplotlib.pyplot as plt\n",
    "from sklearn.metrics import classification_report\n",
    "from imblearn.over_sampling import SMOTE\n",
    "df = pd.read_csv('./Data/cleandata.csv')\n",
    "x=df.iloc[:, :-1]\n",
    "y = df.IsABot.values.tolist()\n",
    "smote = SMOTE(random_state=10)\n",
    "x, y =smote.fit_resample(x, y)\n",
    "x_train, x_test, y_train, y_test = train_test_split(x, y, test_size=0.2, random_state=42,stratify=y)\n",
    "pipeline = Pipeline([\n",
    "   \n",
    "    ('rf',  RandomForestClassifier(random_state=42)) # Training a random forest classifier on the data\n",
    "])\n",
    "\n",
    "# Train the pipeline on the data\n",
    "pipeline.fit(x_train, y_train)\n",
    "\n",
    "# feat_importances = pd.Series(pipeline['rf'].feature_importances_, index=x.columns)\n",
    "# feat_importances.nlargest(20).plot(kind='barh')\n",
    "# plt.show()\n",
    "score = pipeline.score(x_test, y_test)\n",
    "print(\"Accuracy: %.2f%%\" % (score * 100))\n",
    "y_pred_train = pipeline.predict(x_train)\n",
    "y_pred_test = pipeline.predict(x_test)\n",
    "print(\"\\n Training Accuracy score:\",metrics.accuracy_score(y_train, y_pred_train))\n",
    "print(\"Testing Accuracy score:\",metrics.accuracy_score(y_test, y_pred_test))\n",
    "print(\"classification_report \\n \"+classification_report(y_test, y_pred_test))\n",
    "cm = metrics.confusion_matrix(y_test, y_pred_test)\n",
    "# print('Confusion matrix\\n', cm)\n",
    "\n",
    "cm_matrixNB = pd.DataFrame(data=cm, )\n",
    "sns.heatmap(cm_matrixNB, annot=True, fmt='d', cmap='YlGnBu')\n",
    "plt.show()"
   ]
  },
  {
   "attachments": {},
   "cell_type": "markdown",
   "metadata": {},
   "source": [
    "# with features selection"
   ]
  },
  {
   "cell_type": "code",
   "execution_count": 8,
   "metadata": {},
   "outputs": [],
   "source": [
    "import numpy as np # linear algebra\n",
    "import pandas as pd # data processing, CSV file I/O (e.g. pd.read_csv)\n",
    "from sklearn.model_selection import train_test_split\n",
    "from sklearn.ensemble import RandomForestClassifier\n",
    "import gender_guesser.detector as gender\n",
    "import matplotlib.pyplot as plt \n",
    "from datetime import datetime\n",
    "from sklearn import metrics\n",
    "import seaborn as sns\n",
    "import matplotlib.pyplot as plt\n",
    "from sklearn.metrics import classification_report\n",
    "from imblearn.over_sampling import SMOTE\n",
    "data1 = pd.read_csv('./Data/cleandata.csv')\n",
    "data1=data1.loc[:,['HasProfilePicture', 'following', 'follower',\n",
    "       'HasAccountDescription', 'likes', 'posts', 'AverageNumberOfHashtags',\n",
    "       'AverageNumberOfComments', 'AverageNumberOfShare',\n",
    "       'AverageNumberOfLikes', 'AverageNumberOfLinkedProfiles',\n",
    "       'AverageNumberOfViews', 'IsABot']]\n",
    "\n",
    "\n"
   ]
  },
  {
   "attachments": {},
   "cell_type": "markdown",
   "metadata": {},
   "source": [
    "- random undersimpling "
   ]
  },
  {
   "cell_type": "code",
   "execution_count": 9,
   "metadata": {},
   "outputs": [
    {
     "name": "stdout",
     "output_type": "stream",
     "text": [
      "Accuracy: 90.79%\n",
      "\n",
      " Training Accuracy score: 0.9989539748953975\n",
      "Testing Accuracy score: 0.9079497907949791\n",
      "classification_report \n",
      "               precision    recall  f1-score   support\n",
      "\n",
      "         0.0       0.89      0.94      0.91       239\n",
      "         1.0       0.93      0.88      0.91       239\n",
      "\n",
      "    accuracy                           0.91       478\n",
      "   macro avg       0.91      0.91      0.91       478\n",
      "weighted avg       0.91      0.91      0.91       478\n",
      "\n"
     ]
    },
    {
     "data": {
      "image/png": "[encoded data removed]",
      "text/plain": [
       "<Figure size 640x480 with 2 Axes>"
      ]
     },
     "metadata": {},
     "output_type": "display_data"
    }
   ],
   "source": [
    "df1=data1[data1.IsABot== 1].head(1195)\n",
    "df2=data1[data1.IsABot== 0].head(1195)\n",
    "df = pd.concat([df1, df2], ignore_index=True)\n",
    "x=df.iloc[:, :-1]\n",
    "y = df.IsABot.values.tolist()\n",
    "\n",
    "x_train, x_test, y_train, y_test = train_test_split(x, y, test_size=0.2, random_state=42,stratify=y)\n",
    "pipeline = Pipeline([\n",
    "   \n",
    "    ('rf',  RandomForestClassifier(random_state=42)) # Training a random forest classifier on the data\n",
    "])\n",
    "\n",
    "# Train the pipeline on the data\n",
    "pipeline.fit(x_train, y_train)\n",
    "\n",
    "score = pipeline.score(x_test, y_test)\n",
    "print(\"Accuracy: %.2f%%\" % (score * 100))\n",
    "y_pred_train = pipeline.predict(x_train)\n",
    "y_pred_test = pipeline.predict(x_test)\n",
    "print(\"\\n Training Accuracy score:\",metrics.accuracy_score(y_train, y_pred_train))\n",
    "print(\"Testing Accuracy score:\",metrics.accuracy_score(y_test, y_pred_test))\n",
    "print(\"classification_report \\n \"+classification_report(y_test, y_pred_test))\n",
    "cm = metrics.confusion_matrix(y_test, y_pred_test)\n",
    "# print('Confusion matrix\\n', cm)\n",
    "\n",
    "cm_matrixNB = pd.DataFrame(data=cm, )\n",
    "sns.heatmap(cm_matrixNB, annot=True, fmt='d', cmap='YlGnBu')\n",
    "plt.show()"
   ]
  },
  {
   "attachments": {},
   "cell_type": "markdown",
   "metadata": {},
   "source": [
    "- oversimpling"
   ]
  },
  {
   "cell_type": "code",
   "execution_count": 10,
   "metadata": {},
   "outputs": [
    {
     "name": "stdout",
     "output_type": "stream",
     "text": [
      "Accuracy: 92.87%\n",
      "\n",
      " Training Accuracy score: 0.9989499474973749\n",
      "Testing Accuracy score: 0.9286713286713286\n",
      "classification_report \n",
      "               precision    recall  f1-score   support\n",
      "\n",
      "         0.0       0.91      0.95      0.93       358\n",
      "         1.0       0.95      0.90      0.93       357\n",
      "\n",
      "    accuracy                           0.93       715\n",
      "   macro avg       0.93      0.93      0.93       715\n",
      "weighted avg       0.93      0.93      0.93       715\n",
      "\n"
     ]
    },
    {
     "data": {
      "image/png": "[encoded data removed]",
      "text/plain": [
       "<Figure size 640x480 with 2 Axes>"
      ]
     },
     "metadata": {},
     "output_type": "display_data"
    }
   ],
   "source": [
    "from imblearn.over_sampling import SMOTE\n",
    "df=data1\n",
    "x=df.iloc[:, :-1]\n",
    "y = df.IsABot.values.tolist()\n",
    "\n",
    "smote = SMOTE(random_state=10)\n",
    "x, y =smote.fit_resample(x, y)\n",
    "x_train, x_test, y_train, y_test = train_test_split(x, y, test_size=0.2, random_state=42,stratify=y)\n",
    "pipeline = Pipeline([\n",
    "  \n",
    "    ('rf',  RandomForestClassifier(random_state=42)) # Training a random forest classifier on the data\n",
    "])\n",
    "\n",
    "# Train the pipeline on the data\n",
    "pipeline.fit(x_train, y_train)\n",
    "score = pipeline.score(x_test, y_test)\n",
    "print(\"Accuracy: %.2f%%\" % (score * 100))\n",
    "y_pred_train = pipeline.predict(x_train)\n",
    "y_pred_test = pipeline.predict(x_test)\n",
    "print(\"\\n Training Accuracy score:\",metrics.accuracy_score(y_train, y_pred_train))\n",
    "print(\"Testing Accuracy score:\",metrics.accuracy_score(y_test, y_pred_test))\n",
    "print(\"classification_report \\n \"+classification_report(y_test, y_pred_test))\n",
    "cm = metrics.confusion_matrix(y_test, y_pred_test)\n",
    "# print('Confusion matrix\\n', cm)\n",
    "cm_matrixNB = pd.DataFrame(data=cm, )\n",
    "sns.heatmap(cm_matrixNB, annot=True, fmt='d', cmap='YlGnBu')\n",
    "plt.show()"
   ]
  },
  {
   "attachments": {},
   "cell_type": "markdown",
   "metadata": {},
   "source": [
    "tomklink undersimpling"
   ]
  },
  {
   "cell_type": "code",
   "execution_count": 11,
   "metadata": {},
   "outputs": [
    {
     "name": "stdout",
     "output_type": "stream",
     "text": [
      "Accuracy: 93.29%\n",
      "\n",
      " Training Accuracy score: 0.9982773471145564\n",
      "Testing Accuracy score: 0.9328743545611016\n",
      "classification_report \n",
      "               precision    recall  f1-score   support\n",
      "\n",
      "         0.0       0.92      0.92      0.92       239\n",
      "         1.0       0.94      0.94      0.94       342\n",
      "\n",
      "    accuracy                           0.93       581\n",
      "   macro avg       0.93      0.93      0.93       581\n",
      "weighted avg       0.93      0.93      0.93       581\n",
      "\n"
     ]
    },
    {
     "data": {
      "image/png": "[encoded data removed]",
      "text/plain": [
       "<Figure size 640x480 with 2 Axes>"
      ]
     },
     "metadata": {},
     "output_type": "display_data"
    }
   ],
   "source": [
    "import numpy as np # linear algebra\n",
    "import pandas as pd # data processing, CSV file I/O (e.g. pd.read_csv)\n",
    "from sklearn.model_selection import train_test_split\n",
    "from sklearn.ensemble import RandomForestClassifier\n",
    "import gender_guesser.detector as gender\n",
    "\n",
    "import matplotlib.pyplot as plt \n",
    "from datetime import datetime\n",
    "from sklearn import metrics\n",
    "import seaborn as sns\n",
    "import matplotlib.pyplot as plt\n",
    "from sklearn.metrics import classification_report\n",
    "from imblearn.under_sampling import TomekLinks\n",
    "df=data1\n",
    "x=df.iloc[:, :-1]\n",
    "y = df.IsABot.values.tolist()\n",
    "tl = TomekLinks()\n",
    "x, y = tl.fit_resample(x, y)\n",
    "x_train, x_test, y_train, y_test = train_test_split(x, y, test_size=0.2, random_state=42,stratify=y)\n",
    "clf = Pipeline([\n",
    "   \n",
    "    ('rf',  RandomForestClassifier(random_state=42)) # Training a random forest classifier on the data\n",
    "])\n",
    "\n",
    "# Train the pipeline on the data\n",
    "clf.fit(x_train, y_train)\n",
    "score = clf.score(x_test, y_test)\n",
    "print(\"Accuracy: %.2f%%\" % (score * 100))\n",
    "y_pred_train = clf.predict(x_train)\n",
    "y_pred_test = clf.predict(x_test)\n",
    "print(\"\\n Training Accuracy score:\",metrics.accuracy_score(y_train, y_pred_train))\n",
    "print(\"Testing Accuracy score:\",metrics.accuracy_score(y_test, y_pred_test))\n",
    "print(\"classification_report \\n \"+classification_report(y_test, y_pred_test))\n",
    "cm = metrics.confusion_matrix(y_test, y_pred_test)\n",
    "# print('Confusion matrix\\n', cm)\n",
    "\n",
    "cm_matrixNB = pd.DataFrame(data=cm, )\n",
    "sns.heatmap(cm_matrixNB, annot=True, fmt='d', cmap='YlGnBu')\n",
    "plt.show()\n",
    "   "
   ]
  },
  {
   "attachments": {},
   "cell_type": "markdown",
   "metadata": {},
   "source": [
    "# hyperparametre\n"
   ]
  },
  {
   "cell_type": "code",
   "execution_count": 13,
   "metadata": {},
   "outputs": [
    {
     "data": {
      "text/plain": [
       "{'logreg__criterion': 'entropy',\n",
       " 'logreg__max_depth': 25,\n",
       " 'logreg__max_features': 'sqrt',\n",
       " 'logreg__min_samples_leaf': 0.005,\n",
       " 'logreg__min_samples_split': 0.005,\n",
       " 'logreg__n_estimators': 60}"
      ]
     },
     "execution_count": 13,
     "metadata": {},
     "output_type": "execute_result"
    }
   ],
   "source": [
    "from sklearn.model_selection import GridSearchCV\n",
    "from imblearn.under_sampling import TomekLinks\n",
    "from imblearn.over_sampling import SMOTE\n",
    "df = pd.read_csv('./Data/cleandata.csv')\n",
    "x=df.iloc[:, :-1]\n",
    "y = df.IsABot.values.tolist()\n",
    "smote = SMOTE(random_state=10)\n",
    "x, y =smote.fit_resample(x, y)\n",
    "# Create a logistic regression pipeline with StandardScaler\n",
    "pipe = Pipeline([\n",
    "   \n",
    "    ('logreg', RandomForestClassifier(random_state=42))\n",
    "])\n",
    "n_estimators_list = list(range(10,220,50))\n",
    "criterion_list = ['gini', 'entropy']\n",
    "max_depth_list = list(range(5,41,10))\n",
    "max_depth_list.append(None)\n",
    "min_samples_split_list = [x/1000 for x in list(range(5, 41, 10))]\n",
    "min_samples_leaf_list = [x/1000 for x in list(range(5, 41, 10))]\n",
    "max_features_list = ['sqrt', 'log2']\n",
    "params_grid = {\n",
    "    'logreg__n_estimators': n_estimators_list,\n",
    "    'logreg__criterion': criterion_list,\n",
    "    'logreg__max_depth': max_depth_list,\n",
    "    'logreg__min_samples_split': min_samples_split_list,\n",
    "    'logreg__min_samples_leaf': min_samples_leaf_list,\n",
    "    'logreg__max_features': max_features_list\n",
    "}\n",
    "\n",
    "# Perform grid search with cross-validation\n",
    "grid_search = GridSearchCV(pipe, params_grid, cv=3)\n",
    "grid_search.fit(x ,y)\n",
    "\n",
    "grid_search.best_params_"
   ]
  },
  {
   "cell_type": "code",
   "execution_count": 14,
   "metadata": {},
   "outputs": [
    {
     "name": "stdout",
     "output_type": "stream",
     "text": [
      "Accuracy: 91.19%\n",
      "\n",
      " Training Accuracy score: 0.9191459572978649\n",
      "Testing Accuracy score: 0.9118881118881119\n",
      "classification_report \n",
      "               precision    recall  f1-score   support\n",
      "\n",
      "         0.0       0.92      0.91      0.91       358\n",
      "         1.0       0.91      0.92      0.91       357\n",
      "\n",
      "    accuracy                           0.91       715\n",
      "   macro avg       0.91      0.91      0.91       715\n",
      "weighted avg       0.91      0.91      0.91       715\n",
      "\n"
     ]
    },
    {
     "data": {
      "image/png": "[encoded data removed]",
      "text/plain": [
       "<Figure size 640x480 with 2 Axes>"
      ]
     },
     "metadata": {},
     "output_type": "display_data"
    }
   ],
   "source": [
    "{'logreg__criterion': 'entropy',\n",
    " 'logreg__max_depth': 25,\n",
    " 'logreg__max_features': 'sqrt',\n",
    " 'logreg__min_samples_leaf': 0.005,\n",
    " 'logreg__min_samples_split': 0.005,\n",
    " 'logreg__n_estimators': 60}\n",
    "import numpy as np # linear algebra\n",
    "import pandas as pd # data processing, CSV file I/O (e.g. pd.read_csv)\n",
    "from sklearn.model_selection import train_test_split\n",
    "from sklearn.ensemble import RandomForestClassifier\n",
    "import gender_guesser.detector as gender\n",
    "import matplotlib.pyplot as plt \n",
    "from datetime import datetime\n",
    "from sklearn import metrics\n",
    "import seaborn as sns\n",
    "import matplotlib.pyplot as plt\n",
    "from sklearn.metrics import classification_report\n",
    "from imblearn.under_sampling import TomekLinks\n",
    "df = pd.read_csv('./Data/cleandata.csv')\n",
    "x=df.iloc[:, :-1]\n",
    "y = df.IsABot.values.tolist()\n",
    "smote = SMOTE(random_state=10)\n",
    "x, y =smote.fit_resample(x, y)\n",
    "x_train, x_test, y_train, y_test = train_test_split(x, y, test_size=0.2, random_state=42,stratify=y)\n",
    "pipeline = Pipeline([\n",
    "\n",
    "    ('rf',  RandomForestClassifier(random_state=42,criterion= 'entropy',max_depth= 25,max_features= 'sqrt',min_samples_leaf= 0.005,min_samples_split= 0.005, n_estimators= 60)) # Training a random forest classifier on the data\n",
    "])\n",
    "\n",
    "# Train the pipeline on the data\n",
    "pipeline.fit(x_train, y_train)\n",
    "score = pipeline.score(x_test, y_test)\n",
    "print(\"Accuracy: %.2f%%\" % (score * 100))\n",
    "y_pred_train = pipeline.predict(x_train)\n",
    "y_pred_test = pipeline.predict(x_test)\n",
    "print(\"\\n Training Accuracy score:\",metrics.accuracy_score(y_train, y_pred_train))\n",
    "print(\"Testing Accuracy score:\",metrics.accuracy_score(y_test, y_pred_test))\n",
    "print(\"classification_report \\n \"+classification_report(y_test, y_pred_test))\n",
    "cm = metrics.confusion_matrix(y_test, y_pred_test)\n",
    "# print('Confusion matrix\\n', cm)\n",
    "\n",
    "cm_matrixNB = pd.DataFrame(data=cm, )\n",
    "sns.heatmap(cm_matrixNB, annot=True, fmt='d', cmap='YlGnBu')\n",
    "plt.show()"
   ]
  },
  {
   "attachments": {},
   "cell_type": "markdown",
   "metadata": {},
   "source": [
    "#  cross validation"
   ]
  },
  {
   "cell_type": "code",
   "execution_count": 3,
   "metadata": {},
   "outputs": [
    {
     "name": "stdout",
     "output_type": "stream",
     "text": [
      "Average CV Score:  0.9308483169804236\n"
     ]
    }
   ],
   "source": [
    "import numpy as np # linear algebra\n",
    "import pandas as pd # data processing, CSV file I/O (e.g. pd.read_csv)\n",
    "from sklearn.model_selection import train_test_split\n",
    "from sklearn.ensemble import RandomForestClassifier\n",
    "import gender_guesser.detector as gender\n",
    "import matplotlib.pyplot as plt \n",
    "from datetime import datetime\n",
    "from sklearn import metrics\n",
    "import seaborn as sns\n",
    "import matplotlib.pyplot as plt\n",
    "from sklearn.model_selection import KFold, cross_val_score\n",
    "df = pd.read_csv('./Data/cleandata.csv')\n",
    "x=df.iloc[:, :-1]\n",
    "y = df.IsABot.values.tolist()\n",
    "smote = SMOTE(random_state=10)\n",
    "x, y =smote.fit_resample(x, y)\n",
    "k_folds = KFold(n_splits = 10)\n",
    "clf= RandomForestClassifier(random_state=42)\n",
    "scores = cross_val_score(clf, x, y, cv = k_folds)\n",
    "print(\"Average CV Score: \", scores.mean())\n",
    "# Average CV Score:  0.9308483169804236 /93"
   ]
  }
 ],
 "metadata": {
  "kernelspec": {
   "display_name": "venv",
   "language": "python",
   "name": "python3"
  },
  "language_info": {
   "codemirror_mode": {
    "name": "ipython",
    "version": 3
   },
   "file_extension": ".py",
   "mimetype": "text/x-python",
   "name": "python",
   "nbconvert_exporter": "python",
   "pygments_lexer": "ipython3",
   "version": "3.10.11"
  },
  "orig_nbformat": 4,
  "vscode": {
   "interpreter": {
    "hash": "919f1a12e43db5d5accd328457ee16aa753b873ae7a9cf7fbc94ca5438fe0a95"
   }
  }
 },
 "nbformat": 4,
 "nbformat_minor": 2
}

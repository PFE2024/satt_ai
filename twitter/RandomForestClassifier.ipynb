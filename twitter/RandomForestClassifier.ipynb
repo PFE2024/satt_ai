{
 "cells": [
  {
   "attachments": {},
   "cell_type": "markdown",
   "metadata": {},
   "source": [
    "# import"
   ]
  },
  {
   "cell_type": "code",
   "execution_count": 2,
   "metadata": {},
   "outputs": [],
   "source": [
    "import numpy as np # linear algebra\n",
    "import pandas as pd # data processing, CSV file I/O (e.g. pd.read_csv)\n",
    "from sklearn.model_selection import train_test_split\n",
    "from sklearn.ensemble import RandomForestClassifier\n",
    "import gender_guesser.detector as gender\n",
    "\n",
    "import matplotlib.pyplot as plt \n",
    "from datetime import datetime\n",
    "from sklearn import metrics\n",
    "import seaborn as sns\n",
    "import matplotlib.pyplot as plt\n",
    "from sklearn.metrics import classification_report"
   ]
  },
  {
   "cell_type": "code",
   "execution_count": 3,
   "metadata": {},
   "outputs": [],
   "source": [
    "def predict_sex(name):\n",
    "    name=str(name).split(' ')[0]\n",
    "    sex_prediction = gender.Detector(case_sensitive=False)\n",
    "    sex=sex_prediction.get_gender(name)\n",
    "    sex_dic={'female':2,\"male\":1,'unknown':0,'mostly_female':-2 ,'mostly_male':-1,'andy':-3}\n",
    "    return sex_dic[sex]\n",
    "\n",
    "def creation_year(year):\n",
    "    try:\n",
    "        dt = datetime.strptime(str(year), '%Y-%m-%d %H:%M:%S')\n",
    "        return dt.year\n",
    "    except:\n",
    "        return 0\n",
    "\n",
    "def set_sex_code(x):\n",
    "    x.loc[:,'sex_code']=predict_sex(x['name'])\n",
    "\n"
   ]
  },
  {
   "attachments": {},
   "cell_type": "markdown",
   "metadata": {},
   "source": [
    "# load data"
   ]
  },
  {
   "cell_type": "code",
   "execution_count": 4,
   "metadata": {},
   "outputs": [],
   "source": [
    "data = pd.read_csv('./Data/featuresfloatv2.csv')\n",
    "data=data.loc[:,['verified','statuses','location','date_joined','most_recent_post','following','followers','likes','lists','tweet_language','tweets_this_week','retweet_ratio','retweeted_count','URL works','userNameScore','avg_tweets_by_hour_of_day','avg_tweets_by_day_of_week','fake_follower','account_type']]\n",
    "def extract_features(x):\n",
    "    # x.loc[:,'sex_code']=x.apply(lambda row :predict_sex(row[\"display_name\"]), axis=1)\n",
    "    # print('sex code done')\n",
    "    # x.loc[:,'created'] = x.apply(lambda row :creation_year(row[\"date_joined\"]), axis=1)\n",
    "    # print('created done')\n",
    "    # x.loc[:,'most_recent_post'] = x.apply(lambda row :creation_year(row[\"most_recent_post\"]), axis=1)\n",
    "    # print('most_recent_post done')\n",
    "    x=x.loc[:,['verified','statuses','location','date_joined','most_recent_post','following','followers','likes','lists','tweet_language','tweets_this_week','retweet_ratio','retweeted_count','URL works','userNameScore','avg_tweets_by_hour_of_day','avg_tweets_by_day_of_week']]\n",
    "    return x\n"
   ]
  },
  {
   "cell_type": "code",
   "execution_count": 5,
   "metadata": {},
   "outputs": [],
   "source": [
    "x=extract_features(data)\n",
    "\n"
   ]
  },
  {
   "attachments": {},
   "cell_type": "markdown",
   "metadata": {},
   "source": [
    "scale features"
   ]
  },
  {
   "cell_type": "code",
   "execution_count": 6,
   "metadata": {},
   "outputs": [],
   "source": [
    "\n",
    "from sklearn.preprocessing import StandardScaler\n",
    "\n",
    "# Create an instance of StandardScaler\n",
    "scaler = StandardScaler()\n",
    "\n",
    "# Fit the scaler to your data\n",
    "scaler.fit(x)\n",
    "\n",
    "# Transform your data using the scaler\n",
    "X_scaled = scaler.transform(x)\n",
    "\n"
   ]
  },
  {
   "cell_type": "code",
   "execution_count": 9,
   "metadata": {},
   "outputs": [
    {
     "name": "stdout",
     "output_type": "stream",
     "text": [
      "\n",
      " Training Accuracy score: 0.9999632825408482\n",
      "Testing Accuracy score: 0.8976354824496989\n",
      "RandomForestClassifier score: 0.9999632825408482\n",
      "classification_report \n",
      "               precision    recall  f1-score   support\n",
      "\n",
      "         bot       0.89      0.80      0.84      2309\n",
      "       human       0.90      0.95      0.92      4500\n",
      "\n",
      "    accuracy                           0.90      6809\n",
      "   macro avg       0.89      0.87      0.88      6809\n",
      "weighted avg       0.90      0.90      0.90      6809\n",
      "\n"
     ]
    },
    {
     "data": {
      "image/png": "[encoded data removed]",
      "text/plain": [
       "<Figure size 640x480 with 2 Axes>"
      ]
     },
     "metadata": {},
     "output_type": "display_data"
    }
   ],
   "source": [
    "\n",
    "clf=RandomForestClassifier()\n",
    "# ,'description','location','url','sex_code','verified','created','sex_code','tweet_language','tweets_by_day_of_week','tweets_by_hour_of_day'\n",
    "\n",
    "y = data.account_type.values.tolist()\n",
    "x_train, x_test, y_train, y_test = train_test_split(X_scaled, y, test_size=0.2, random_state=42,stratify=y)\n",
    "clf.fit(x_train,y_train)\n",
    "y_pred_train = clf.predict(x_train)\n",
    "y_pred_test = clf.predict(x_test)\n",
    "print(\"\\n Training Accuracy score:\",metrics.accuracy_score(y_train, y_pred_train))\n",
    "print(\"Testing Accuracy score:\",metrics.accuracy_score(y_test, y_pred_test))\n",
    "print(\"RandomForestClassifier score:\",clf.score(x_train, y_train))\n",
    "print(\"classification_report \\n \"+classification_report(y_test, y_pred_test))\n",
    "cm = metrics.confusion_matrix(y_test, y_pred_test,labels=[ 'human', 'bot'])\n",
    "# print('Confusion matrix\\n', cm)\n",
    "\n",
    "cm_matrixNB = pd.DataFrame(data=cm, columns=[ 'human', 'bot'], \n",
    "                        index=[ 'human', 'bot'])\n",
    "sns.heatmap(cm_matrixNB, annot=True, fmt='d', cmap='YlGnBu')\n",
    "plt.show()\n",
    "   \n"
   ]
  }
 ],
 "metadata": {
  "kernelspec": {
   "display_name": "venv",
   "language": "python",
   "name": "python3"
  },
  "language_info": {
   "codemirror_mode": {
    "name": "ipython",
    "version": 3
   },
   "file_extension": ".py",
   "mimetype": "text/x-python",
   "name": "python",
   "nbconvert_exporter": "python",
   "pygments_lexer": "ipython3",
   "version": "3.10.6"
  },
  "orig_nbformat": 4,
  "vscode": {
   "interpreter": {
    "hash": "0b269af9bc916de9a69a9129747e30eb936050c74c311d5baf33ccd4b86d3e37"
   }
  }
 },
 "nbformat": 4,
 "nbformat_minor": 2
}

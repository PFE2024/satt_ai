{
  "cells": [
    {
      "attachments": {},
      "cell_type": "markdown",
      "metadata": {},
      "source": [
        "Import"
      ]
    },
    {
      "cell_type": "code",
      "execution_count": 1,
      "metadata": {
        "trusted": true
      },
      "outputs": [],
      "source": [
        "import pandas as pd\n",
        "import numpy as np\n",
        "from datetime import datetime\n",
        "from sklearn.model_selection import train_test_split\n",
        "from sklearn.linear_model import LogisticRegression\n",
        "from sklearn.metrics import accuracy_score\n",
        "from sklearn import metrics\n",
        "from sklearn.metrics import classification_report\n",
        "from sklearn.metrics import confusion_matrix\n",
        "from matplotlib import pyplot as plt\n",
        "import seaborn as sns"
      ]
    },
    {
      "attachments": {},
      "cell_type": "markdown",
      "metadata": {},
      "source": [
        "Load Data"
      ]
    },
    {
      "cell_type": "code",
      "execution_count": 2,
      "metadata": {},
      "outputs": [],
      "source": [
        "from sklearn.preprocessing import StandardScaler\n",
        "\n",
        "def extract_features(x):\n",
        "    x=x.loc[:,['verified','statuses','location','date_joined','most_recent_post','following','followers','likes','lists','tweet_language','tweets_this_week','retweet_ratio','retweeted_count','URL works','userNameScore','avg_tweets_by_hour_of_day','avg_tweets_by_day_of_week']]\n",
        "    return x\n",
        "\n",
        "data = pd.read_csv('./Data/featuresfloatv2.csv')\n",
        "data=data.loc[:,['verified','statuses','location','date_joined','most_recent_post','following','followers','likes','lists','tweet_language','tweets_this_week','retweet_ratio','retweeted_count','URL works','userNameScore','avg_tweets_by_hour_of_day','avg_tweets_by_day_of_week','fake_follower','account_type']]\n",
        "\n",
        "# Create an instance of StandardScaler\n",
        "scaler = StandardScaler()\n",
        "x=extract_features(data)\n",
        "# Fit the scaler to your data\n",
        "scaler.fit(x)\n",
        "\n",
        "# Transform your data using the scaler\n",
        "X_scaled = scaler.transform(x)\n",
        "\n",
        "y = data.account_type.values.tolist()"
      ]
    },
    {
      "cell_type": "code",
      "execution_count": 3,
      "metadata": {},
      "outputs": [],
      "source": [
        "\n",
        "\n",
        "x_train, x_test, y_train, y_test = train_test_split(X_scaled, y, test_size=0.2, random_state=48)"
      ]
    },
    {
      "attachments": {},
      "cell_type": "markdown",
      "metadata": {},
      "source": [
        "Split the data into training and testing sets"
      ]
    },
    {
      "attachments": {},
      "cell_type": "markdown",
      "metadata": {},
      "source": [
        "Train the Logistic Regression model"
      ]
    },
    {
      "cell_type": "code",
      "execution_count": 4,
      "metadata": {
        "trusted": true
      },
      "outputs": [
        {
          "name": "stdout",
          "output_type": "stream",
          "text": [
            "\n",
            "Training Accuracy score: 0.8119698916834955\n",
            "Testing Accuracy score: 0.8111323248641504\n"
          ]
        }
      ],
      "source": [
        "lr = LogisticRegression(random_state=48)\n",
        "lr.fit(x_train,y_train)\n",
        "\n",
        "y_pred_train = lr.predict(x_train)\n",
        "y_pred_test = lr.predict(x_test)\n",
        "print(\"\\nTraining Accuracy score:\",accuracy_score(y_train, y_pred_train))\n",
        "print(\"Testing Accuracy score:\",accuracy_score(y_test, y_pred_test))"
      ]
    },
    {
      "attachments": {},
      "cell_type": "markdown",
      "metadata": {},
      "source": [
        "Calculate the accuracy of the model"
      ]
    },
    {
      "cell_type": "code",
      "execution_count": 9,
      "metadata": {
        "trusted": true
      },
      "outputs": [
        {
          "name": "stdout",
          "output_type": "stream",
          "text": [
            "Accuracy  classification : 0.813001762287057\n"
          ]
        }
      ],
      "source": [
        "def accurracy(y_true,y_pred_test):\n",
        "    return np.sum(y_true==y_pred_test)/len(y_true)\n",
        "print('Accuracy  classification :',accurracy(y_test,y_pred_test))\n"
      ]
    },
    {
      "attachments": {},
      "cell_type": "markdown",
      "metadata": {},
      "source": [
        "Calculate the classification report of the model"
      ]
    },
    {
      "cell_type": "code",
      "execution_count": 10,
      "metadata": {},
      "outputs": [
        {
          "name": "stdout",
          "output_type": "stream",
          "text": [
            "classification_report \n",
            "               precision    recall  f1-score   support\n",
            "\n",
            "         bot       0.74      0.69      0.71      3447\n",
            "       human       0.85      0.87      0.86      6767\n",
            "\n",
            "    accuracy                           0.81     10214\n",
            "   macro avg       0.79      0.78      0.79     10214\n",
            "weighted avg       0.81      0.81      0.81     10214\n",
            "\n"
          ]
        }
      ],
      "source": [
        "print(\"classification_report \\n \"+classification_report(y_test, y_pred_test))"
      ]
    },
    {
      "cell_type": "code",
      "execution_count": 7,
      "metadata": {
        "trusted": true
      },
      "outputs": [
        {
          "data": {
            "image/png": "[encoded data removed]",
            "text/plain": [
              "<Figure size 640x480 with 2 Axes>"
            ]
          },
          "metadata": {},
          "output_type": "display_data"
        }
      ],
      "source": [
        "cm = metrics.confusion_matrix(y_test,  y_pred_test,labels=[ 'human', 'bot'])\n",
        "\n",
        "cm_matrixNB = pd.DataFrame(data=cm, columns=[ 'human', 'bot'], \n",
        "                        index=[ 'human', 'bot'])\n",
        "sns.heatmap(cm_matrixNB, annot=True, fmt='d', cmap='YlGnBu')\n",
        "plt.show()\n"
      ]
    }
  ],
  "metadata": {
    "kernelspec": {
      "display_name": "venv",
      "language": "python",
      "name": "python3"
    },
    "language_info": {
      "codemirror_mode": {
        "name": "ipython",
        "version": 3
      },
      "file_extension": ".py",
      "mimetype": "text/x-python",
      "name": "python",
      "nbconvert_exporter": "python",
      "pygments_lexer": "ipython3",
      "version": "3.10.6"
    },
    "vscode": {
      "interpreter": {
        "hash": "f27a746d362097657e5b498fa7157a5dc901e7fde87c7e9f4905820e8053aba1"
      }
    }
  },
  "nbformat": 4,
  "nbformat_minor": 4
}

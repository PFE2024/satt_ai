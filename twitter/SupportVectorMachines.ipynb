{
  "cells": [
    {
      "attachments": {},
      "cell_type": "markdown",
      "metadata": {},
      "source": [
        "Import"
      ]
    },
    {
      "cell_type": "code",
      "execution_count": 13,
      "metadata": {},
      "outputs": [
        {
          "ename": "ModuleNotFoundError",
          "evalue": "No module named 'flask'",
          "output_type": "error",
          "traceback": [
            "\u001b[0;31m---------------------------------------------------------------------------\u001b[0m",
            "\u001b[0;31mModuleNotFoundError\u001b[0m                       Traceback (most recent call last)",
            "Cell \u001b[0;32mIn[13], line 1\u001b[0m\n\u001b[0;32m----> 1\u001b[0m \u001b[39mfrom\u001b[39;00m \u001b[39mflask\u001b[39;00m \u001b[39mimport\u001b[39;00m Flask, request\n",
            "\u001b[0;31mModuleNotFoundError\u001b[0m: No module named 'flask'"
          ]
        }
      ],
      "source": [
        "from flask import Flask, request"
      ]
    },
    {
      "cell_type": "code",
      "execution_count": 10,
      "metadata": {
        "trusted": true
      },
      "outputs": [],
      "source": [
        "import pandas as pd\n",
        "from sklearn.model_selection import train_test_split\n",
        "from sklearn.svm import SVC\n",
        "from sklearn.metrics import accuracy_score\n",
        "from sklearn import metrics\n",
        "from sklearn.metrics import classification_report\n",
        "from sklearn.metrics import confusion_matrix\n",
        "from matplotlib import pyplot as plt\n",
        "import seaborn as sns"
      ]
    },
    {
      "attachments": {},
      "cell_type": "markdown",
      "metadata": {},
      "source": [
        "Load Data"
      ]
    },
    {
      "cell_type": "code",
      "execution_count": 14,
      "metadata": {},
      "outputs": [],
      "source": [
        "from sklearn.preprocessing import StandardScaler\n",
        "data = pd.read_csv('./Data/featuresfloatvf.csv')\n",
        "data =data.drop('Unnamed: 0', axis=1)\n",
        "# x=data.loc[:,['statuses' , 'date_joined' , 'most_recent_post' , 'following' , 'followers' , 'likes', 'retweet' , 'retweeted_count'  ,'avg_tweets_by_hour_of_day', 'avg_tweets_by_day_of_week']]\n",
        "x=data.iloc[:, :-1]\n",
        "y = data.account_type.values.tolist()"
      ]
    },
    {
      "cell_type": "code",
      "execution_count": 15,
      "metadata": {},
      "outputs": [],
      "source": [
        "\n",
        "\n",
        "x_train, x_test, y_train, y_test = train_test_split(x, y, test_size=0.2, random_state=42)\n",
        "scaler = StandardScaler()\n",
        "# Fit the scaler to your data\n",
        "x_train = scaler.fit_transform(x_train)\n",
        "x_test = scaler.transform(x_test)"
      ]
    },
    {
      "attachments": {},
      "cell_type": "markdown",
      "metadata": {},
      "source": [
        "Train the Suppport Vector Machines model"
      ]
    },
    {
      "cell_type": "code",
      "execution_count": 16,
      "metadata": {
        "trusted": true
      },
      "outputs": [
        {
          "name": "stdout",
          "output_type": "stream",
          "text": [
            "\n",
            "Training Accuracy score: 0.8430681818181818\n",
            "Testing Accuracy score: 0.8327272727272728\n"
          ]
        }
      ],
      "source": [
        "svc =  SVC() \n",
        "svc.fit(x_train,y_train)\n",
        "\n",
        "y_pred_train = svc.predict(x_train)\n",
        "y_pred_test = svc.predict(x_test)\n",
        "print(\"\\nTraining Accuracy score:\",accuracy_score(y_train, y_pred_train))\n",
        "print(\"Testing Accuracy score:\",accuracy_score(y_test, y_pred_test))"
      ]
    },
    {
      "attachments": {},
      "cell_type": "markdown",
      "metadata": {},
      "source": [
        "Calculate the accuracy of the model"
      ]
    },
    {
      "cell_type": "code",
      "execution_count": 6,
      "metadata": {
        "trusted": true
      },
      "outputs": [
        {
          "data": {
            "text/plain": [
              "0.8076075782053165"
            ]
          },
          "execution_count": 6,
          "metadata": {},
          "output_type": "execute_result"
        }
      ],
      "source": [
        "from sklearn.metrics import accuracy_score\n",
        "accuracy_score(y_test,  y_pred_test)\n"
      ]
    },
    {
      "cell_type": "code",
      "execution_count": 17,
      "metadata": {},
      "outputs": [
        {
          "name": "stdout",
          "output_type": "stream",
          "text": [
            "\n",
            "Training Accuracy score: 0.8430681818181818\n",
            "Testing Accuracy score: 0.8327272727272728\n",
            "classification_report \n",
            "               precision    recall  f1-score   support\n",
            "\n",
            "           0       0.84      0.82      0.83      2156\n",
            "           1       0.83      0.85      0.84      2244\n",
            "\n",
            "    accuracy                           0.83      4400\n",
            "   macro avg       0.83      0.83      0.83      4400\n",
            "weighted avg       0.83      0.83      0.83      4400\n",
            "\n"
          ]
        },
        {
          "data": {
            "image/png": "[encoded data removed]",
            "text/plain": [
              "<Figure size 640x480 with 2 Axes>"
            ]
          },
          "metadata": {},
          "output_type": "display_data"
        }
      ],
      "source": [
        "svc =  SVC() \n",
        "svc.fit(x_train,y_train)\n",
        "\n",
        "y_pred_train = svc.predict(x_train)\n",
        "y_pred_test = svc.predict(x_test)\n",
        "print(\"\\nTraining Accuracy score:\",accuracy_score(y_train, y_pred_train))\n",
        "print(\"Testing Accuracy score:\",accuracy_score(y_test, y_pred_test))\n",
        "print(\"classification_report \\n \"+classification_report(y_test, y_pred_test))\n",
        "cm = metrics.confusion_matrix(y_test,  y_pred_test)\n",
        "\n",
        "cm_matrixNB = pd.DataFrame(data=cm)\n",
        "sns.heatmap(cm_matrixNB, annot=True, fmt='d', cmap='YlGnBu')\n",
        "plt.show()\n"
      ]
    }
  ],
  "metadata": {
    "kernelspec": {
      "display_name": "venv",
      "language": "python",
      "name": "python3"
    },
    "language_info": {
      "codemirror_mode": {
        "name": "ipython",
        "version": 3
      },
      "file_extension": ".py",
      "mimetype": "text/x-python",
      "name": "python",
      "nbconvert_exporter": "python",
      "pygments_lexer": "ipython3",
      "version": "3.10.6"
    },
    "vscode": {
      "interpreter": {
        "hash": "0b269af9bc916de9a69a9129747e30eb936050c74c311d5baf33ccd4b86d3e37"
      }
    }
  },
  "nbformat": 4,
  "nbformat_minor": 4
}

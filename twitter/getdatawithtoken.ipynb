{
 "cells": [
  {
   "cell_type": "code",
   "execution_count": 2,
   "metadata": {},
   "outputs": [
    {
     "ename": "TweepError",
     "evalue": "[{'message': 'Could not authenticate you', 'code': 32}]",
     "output_type": "error",
     "traceback": [
      "\u001b[0;31m---------------------------------------------------------------------------\u001b[0m",
      "\u001b[0;31mTweepError\u001b[0m                                Traceback (most recent call last)",
      "Cell \u001b[0;32mIn[2], line 14\u001b[0m\n\u001b[1;32m     11\u001b[0m api \u001b[39m=\u001b[39m tweepy\u001b[39m.\u001b[39mAPI(auth, wait_on_rate_limit\u001b[39m=\u001b[39m\u001b[39mTrue\u001b[39;00m)\n\u001b[1;32m     12\u001b[0m \u001b[39m# timeline = api.user_timeline(count=200, include_rts=True, tweet_mode=\"extended\")\u001b[39;00m\n\u001b[1;32m     13\u001b[0m \u001b[39m# timeline\u001b[39;00m\n\u001b[0;32m---> 14\u001b[0m settings \u001b[39m=\u001b[39m api\u001b[39m.\u001b[39;49mget_settings()\n\u001b[1;32m     15\u001b[0m settings\n",
      "File \u001b[0;32m~/Documents/AI/venv/lib/python3.10/site-packages/tweepy/binder.py:253\u001b[0m, in \u001b[0;36mbind_api.<locals>._call\u001b[0;34m(*args, **kwargs)\u001b[0m\n\u001b[1;32m    251\u001b[0m         \u001b[39mreturn\u001b[39;00m method\n\u001b[1;32m    252\u001b[0m     \u001b[39melse\u001b[39;00m:\n\u001b[0;32m--> 253\u001b[0m         \u001b[39mreturn\u001b[39;00m method\u001b[39m.\u001b[39;49mexecute()\n\u001b[1;32m    254\u001b[0m \u001b[39mfinally\u001b[39;00m:\n\u001b[1;32m    255\u001b[0m     method\u001b[39m.\u001b[39msession\u001b[39m.\u001b[39mclose()\n",
      "File \u001b[0;32m~/Documents/AI/venv/lib/python3.10/site-packages/tweepy/binder.py:234\u001b[0m, in \u001b[0;36mbind_api.<locals>.APIMethod.execute\u001b[0;34m(self)\u001b[0m\n\u001b[1;32m    232\u001b[0m         \u001b[39mraise\u001b[39;00m RateLimitError(error_msg, resp)\n\u001b[1;32m    233\u001b[0m     \u001b[39melse\u001b[39;00m:\n\u001b[0;32m--> 234\u001b[0m         \u001b[39mraise\u001b[39;00m TweepError(error_msg, resp, api_code\u001b[39m=\u001b[39mapi_error_code)\n\u001b[1;32m    236\u001b[0m \u001b[39m# Parse the response payload\u001b[39;00m\n\u001b[1;32m    237\u001b[0m \u001b[39mself\u001b[39m\u001b[39m.\u001b[39mreturn_cursors \u001b[39m=\u001b[39m (\u001b[39mself\u001b[39m\u001b[39m.\u001b[39mreturn_cursors \u001b[39mor\u001b[39;00m\n\u001b[1;32m    238\u001b[0m                        \u001b[39m'\u001b[39m\u001b[39mcursor\u001b[39m\u001b[39m'\u001b[39m \u001b[39min\u001b[39;00m \u001b[39mself\u001b[39m\u001b[39m.\u001b[39msession\u001b[39m.\u001b[39mparams \u001b[39mor\u001b[39;00m \u001b[39m'\u001b[39m\u001b[39mnext\u001b[39m\u001b[39m'\u001b[39m \u001b[39min\u001b[39;00m \u001b[39mself\u001b[39m\u001b[39m.\u001b[39msession\u001b[39m.\u001b[39mparams)\n",
      "\u001b[0;31mTweepError\u001b[0m: [{'message': 'Could not authenticate you', 'code': 32}]"
     ]
    }
   ],
   "source": [
    "import tweepy\n",
    "from decouple import config\n",
    "\n",
    "\n",
    "TWITTER_CONSUMER_KEY='zHzptTVP3IPoPoCPnt1h7xuSK' \n",
    "TWITTER_CONSUMER_SECRET='cueHbbIK2IVYt7bloW3qqWaTT75A8b2FKcQ1H1QjKn1PAH8UJI'\n",
    "TWITTER_ACCESS_TOKEN_KEY='2616201013-Bow3klvUxQbYXuO22nCm4tdH4Wxvsr6OE8PGXPT'\n",
    "TWITTER_ACCESS_TOKEN_SECRET='2iAs1oM1dhVoUX4gnRR9dGCPI4Ayc8ZbfJJymbqfm5otP'\n",
    "auth = tweepy.OAuthHandler(TWITTER_CONSUMER_KEY, TWITTER_CONSUMER_SECRET)\n",
    "auth.set_access_token(TWITTER_ACCESS_TOKEN_KEY, TWITTER_ACCESS_TOKEN_SECRET)\n",
    "api = tweepy.API(auth, wait_on_rate_limit=True)\n",
    "# timeline = api.user_timeline(count=200, include_rts=True, tweet_mode=\"extended\")\n",
    "# timeline\n",
    "settings = api.get_settings()\n",
    "settings"
   ]
  },
  {
   "cell_type": "code",
   "execution_count": 13,
   "metadata": {},
   "outputs": [
    {
     "ename": "TweepError",
     "evalue": "Expected token_type to equal \"bearer\", but got None instead",
     "output_type": "error",
     "traceback": [
      "\u001b[0;31m---------------------------------------------------------------------------\u001b[0m",
      "\u001b[0;31mTweepError\u001b[0m                                Traceback (most recent call last)",
      "Cell \u001b[0;32mIn[13], line 15\u001b[0m\n\u001b[1;32m     12\u001b[0m TWITTER_CONSUMER_KEY_DEV\u001b[39m=\u001b[39m\u001b[39m\"\u001b[39m\u001b[39mokh3N0ABJLL6pcgwLFxzzWRkz\u001b[39m\u001b[39m\"\u001b[39m\n\u001b[1;32m     13\u001b[0m TWITTER_CONSUMER_SECRET_DEV\u001b[39m=\u001b[39m\u001b[39m\"\u001b[39m\u001b[39mcueHbbIK2IVYt7bloW3qqWaTT75A8b2FKcQ1H1QjKn1PAH8UJI\u001b[39m\u001b[39m\"\u001b[39m\n\u001b[0;32m---> 15\u001b[0m auth \u001b[39m=\u001b[39m tweepy\u001b[39m.\u001b[39;49mAppAuthHandler(TWITTER_CONSUMER_KEY_DEV, TWITTER_CONSUMER_SECRET_DEV)\n\u001b[1;32m     16\u001b[0m \u001b[39m# auth.set_access_token(TWITTER_ACCESS_TOKEN_KEY, TWITTER_ACCESS_TOKEN_SECRET)\u001b[39;00m\n\u001b[1;32m     17\u001b[0m api \u001b[39m=\u001b[39m tweepy\u001b[39m.\u001b[39mAPI(auth)\n",
      "File \u001b[0;32m~/Documents/AI/venv/lib/python3.10/site-packages/tweepy/auth.py:175\u001b[0m, in \u001b[0;36mAppAuthHandler.__init__\u001b[0;34m(self, consumer_key, consumer_secret)\u001b[0m\n\u001b[1;32m    173\u001b[0m data \u001b[39m=\u001b[39m resp\u001b[39m.\u001b[39mjson()\n\u001b[1;32m    174\u001b[0m \u001b[39mif\u001b[39;00m data\u001b[39m.\u001b[39mget(\u001b[39m'\u001b[39m\u001b[39mtoken_type\u001b[39m\u001b[39m'\u001b[39m) \u001b[39m!=\u001b[39m \u001b[39m'\u001b[39m\u001b[39mbearer\u001b[39m\u001b[39m'\u001b[39m:\n\u001b[0;32m--> 175\u001b[0m     \u001b[39mraise\u001b[39;00m TweepError(\u001b[39m'\u001b[39m\u001b[39mExpected token_type to equal \u001b[39m\u001b[39m\"\u001b[39m\u001b[39mbearer\u001b[39m\u001b[39m\"\u001b[39m\u001b[39m, \u001b[39m\u001b[39m'\u001b[39m\n\u001b[1;32m    176\u001b[0m                      \u001b[39m'\u001b[39m\u001b[39mbut got \u001b[39m\u001b[39m%s\u001b[39;00m\u001b[39m instead\u001b[39m\u001b[39m'\u001b[39m \u001b[39m%\u001b[39m data\u001b[39m.\u001b[39mget(\u001b[39m'\u001b[39m\u001b[39mtoken_type\u001b[39m\u001b[39m'\u001b[39m))\n\u001b[1;32m    178\u001b[0m \u001b[39mself\u001b[39m\u001b[39m.\u001b[39m_bearer_token \u001b[39m=\u001b[39m data[\u001b[39m'\u001b[39m\u001b[39maccess_token\u001b[39m\u001b[39m'\u001b[39m]\n",
      "\u001b[0;31mTweepError\u001b[0m: Expected token_type to equal \"bearer\", but got None instead"
     ]
    }
   ],
   "source": [
    "import tweepy\n",
    "\n",
    "TWITTER_CONSUMER_KEY='zHzptTVP3IPoPoCPnt1h7xuSK' \n",
    "TWITTER_CONSUMER_SECRET='cueHbbIK2IVYt7bloW3qqWaTT75A8b2FKcQ1H1QjKn1PAH8UJI'\n",
    "\n",
    "TWITTER_ACCESS_TOKEN_KEY='2616201013-Bow3klvUxQbYXuO22nCm4tdH4Wxvsr6OE8PGXPT'\n",
    "TWITTER_ACCESS_TOKEN_SECRET='2iAs1oM1dhVoUX4gnRR9dGCPI4Ayc8ZbfJJymbqfm5otP'\n",
    "\n",
    "TWITTER_CONSUMER_KEY_ALT=\"tH7AnhdvgOndxvZOyeeyfHOVG\"\n",
    "TWILTTER_CONSUMER_SECRET_ALT=\"14mR3PZn3osH1OBPjtJWJT7IycQB5kOF4PmIuDjHvFHuEZppk0\"\n",
    "\n",
    "TWITTER_CONSUMER_KEY_DEV=\"okh3N0ABJLL6pcgwLFxzzWRkz\"\n",
    "TWITTER_CONSUMER_SECRET_DEV=\"cueHbbIK2IVYt7bloW3qqWaTT75A8b2FKcQ1H1QjKn1PAH8UJI\"\n",
    "\n",
    "auth = tweepy.AppAuthHandler(TWITTER_CONSUMER_KEY_DEV, TWITTER_CONSUMER_SECRET_DEV)\n",
    "# auth.set_access_token(TWITTER_ACCESS_TOKEN_KEY, TWITTER_ACCESS_TOKEN_SECRET)\n",
    "api = tweepy.API(auth)\n",
    "\n",
    "app = api.verify_credentials()\n",
    "print(f\"App Name: {app.name}\")\n",
    "print(f\"App ID: {app.id}\")\n",
    "print(f\"App Description: {app.description}\")\n"
   ]
  }
 ],
 "metadata": {
  "kernelspec": {
   "display_name": "venv",
   "language": "python",
   "name": "python3"
  },
  "language_info": {
   "codemirror_mode": {
    "name": "ipython",
    "version": 3
   },
   "file_extension": ".py",
   "mimetype": "text/x-python",
   "name": "python",
   "nbconvert_exporter": "python",
   "pygments_lexer": "ipython3",
   "version": "3.10.6"
  },
  "orig_nbformat": 4,
  "vscode": {
   "interpreter": {
    "hash": "0b269af9bc916de9a69a9129747e30eb936050c74c311d5baf33ccd4b86d3e37"
   }
  }
 },
 "nbformat": 4,
 "nbformat_minor": 2
}

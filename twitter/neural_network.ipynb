{
 "cells": [
  {
   "cell_type": "code",
   "execution_count": 2,
   "metadata": {},
   "outputs": [],
   "source": [
    "import numpy as np # linear algebra\n",
    "import pandas as pd # data processing, CSV file I/O (e.g. pd.read_csv)\n",
    "from sklearn.model_selection import train_test_split\n",
    "from sklearn.ensemble import RandomForestClassifier\n",
    "import gender_guesser.detector as gender\n",
    "\n",
    "import matplotlib.pyplot as plt \n",
    "from datetime import datetime\n",
    "from sklearn import metrics\n",
    "from sklearn.metrics import accuracy_score\n",
    "import seaborn as sns\n",
    "import matplotlib.pyplot as plt\n",
    "from sklearn.metrics import classification_report"
   ]
  },
  {
   "cell_type": "code",
   "execution_count": 3,
   "metadata": {},
   "outputs": [],
   "source": [
    "\n",
    "from sklearn.preprocessing import StandardScaler\n",
    "\n",
    "from sklearn.preprocessing import StandardScaler\n",
    "data = pd.read_csv('./Data/featuresfloatvf.csv')\n",
    "data =data.drop('Unnamed: 0', axis=1)\n",
    "# x=data.loc[:,['statuses' , 'date_joined' , 'most_recent_post' , 'following' , 'followers' , 'likes', 'retweet' , 'retweeted_count'  ,'avg_tweets_by_hour_of_day', 'avg_tweets_by_day_of_week']]\n",
    "x=data.iloc[:, :-1]\n",
    "y = data.account_type.values.tolist()"
   ]
  },
  {
   "cell_type": "code",
   "execution_count": 4,
   "metadata": {},
   "outputs": [
    {
     "name": "stdout",
     "output_type": "stream",
     "text": [
      "Accuracy: 0.7390909090909091\n",
      "\n",
      "Training Accuracy score: 0.7322727272727273\n",
      "Testing Accuracy score: 0.7390909090909091\n",
      "classification_report \n",
      "               precision    recall  f1-score   support\n",
      "\n",
      "           0       0.73      0.74      0.73      2158\n",
      "           1       0.75      0.74      0.74      2242\n",
      "\n",
      "    accuracy                           0.74      4400\n",
      "   macro avg       0.74      0.74      0.74      4400\n",
      "weighted avg       0.74      0.74      0.74      4400\n",
      "\n"
     ]
    },
    {
     "data": {
      "image/png": "[encoded data removed]",
      "text/plain": [
       "<Figure size 640x480 with 2 Axes>"
      ]
     },
     "metadata": {},
     "output_type": "display_data"
    }
   ],
   "source": [
    "from sklearn.neural_network import MLPClassifier\n",
    "\n",
    "\n",
    "\n",
    "X_train, X_test, y_train, y_test = train_test_split(x, y, test_size=0.2, random_state=48)\n",
    "\n",
    "# Build the model\n",
    "mlp = MLPClassifier( activation='relu', solver='adam', max_iter=1000)\n",
    "\n",
    "# Train the model\n",
    "mlp.fit(X_train, y_train)\n",
    "\n",
    "# Evaluate the model\n",
    "accuracy = mlp.score(X_test, y_test)\n",
    "print('Accuracy:', accuracy)\n",
    "y_pred_train = mlp.predict(X_train)\n",
    "y_pred_test = mlp.predict(X_test)\n",
    "\n",
    "print(\"\\nTraining Accuracy score:\",accuracy_score(y_train, y_pred_train))\n",
    "print(\"Testing Accuracy score:\",accuracy_score(y_test, y_pred_test))\n",
    "print(\"classification_report \\n \"+classification_report(y_test, y_pred_test))\n",
    "cm = metrics.confusion_matrix(y_test,  y_pred_test)\n",
    "\n",
    "cm_matrixNB = pd.DataFrame(data=cm)\n",
    "sns.heatmap(cm_matrixNB, annot=True, fmt='d', cmap='YlGnBu')\n",
    "plt.show()"
   ]
  }
 ],
 "metadata": {
  "kernelspec": {
   "display_name": "venv",
   "language": "python",
   "name": "python3"
  },
  "language_info": {
   "codemirror_mode": {
    "name": "ipython",
    "version": 3
   },
   "file_extension": ".py",
   "mimetype": "text/x-python",
   "name": "python",
   "nbconvert_exporter": "python",
   "pygments_lexer": "ipython3",
   "version": "3.10.6"
  },
  "orig_nbformat": 4,
  "vscode": {
   "interpreter": {
    "hash": "0b269af9bc916de9a69a9129747e30eb936050c74c311d5baf33ccd4b86d3e37"
   }
  }
 },
 "nbformat": 4,
 "nbformat_minor": 2
}

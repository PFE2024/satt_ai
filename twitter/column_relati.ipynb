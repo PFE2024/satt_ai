{
 "cells": [
  {
   "cell_type": "code",
   "execution_count": 1,
   "metadata": {},
   "outputs": [],
   "source": [
    "import pandas as pd\n",
    "\n",
    "import numpy as np\n",
    "from datetime import datetime\n",
    "\n",
    "import requests"
   ]
  },
  {
   "cell_type": "code",
   "execution_count": 3,
   "metadata": {},
   "outputs": [],
   "source": [
    "data = pd.read_csv(\"./Data/featuresfloatv2.csv\")\n",
    "data=data.loc[:,['verified','statuses','location','date_joined','most_recent_post','following','followers','likes','lists','tweet_language','tweets_this_week','retweet_ratio','retweeted_count','URL works','userNameScore','avg_tweets_by_hour_of_day','avg_tweets_by_day_of_week','account_type']]\n",
    "\n"
   ]
  },
  {
   "cell_type": "code",
   "execution_count": 21,
   "metadata": {},
   "outputs": [],
   "source": []
  },
  {
   "cell_type": "code",
   "execution_count": 4,
   "metadata": {},
   "outputs": [],
   "source": [
    "data.rename(columns = {'retweet_ratio':'retweet'}, inplace = True)\n",
    "data['retweet'] = data['retweet'].multiply(2)\n",
    "data.to_csv('./Data/featuresfloatv3.csv', index=False)"
   ]
  },
  {
   "cell_type": "code",
   "execution_count": 6,
   "metadata": {},
   "outputs": [
    {
     "data": {
      "text/plain": [
       " 0    20454\n",
       " 1    13588\n",
       "-1        2\n",
       "Name: URL works, dtype: int64"
      ]
     },
     "execution_count": 6,
     "metadata": {},
     "output_type": "execute_result"
    }
   ],
   "source": [
    "data[\"URL works\"].value_counts(dropna=True)"
   ]
  },
  {
   "attachments": {},
   "cell_type": "markdown",
   "metadata": {},
   "source": [
    "crée une relation entre les annes de création (in years) et nombre de following"
   ]
  },
  {
   "cell_type": "code",
   "execution_count": 7,
   "metadata": {},
   "outputs": [
    {
     "data": {
      "text/plain": [
       " 1    32829\n",
       " 0     1004\n",
       "-1      211\n",
       "Name: years_of_join, dtype: int64"
      ]
     },
     "execution_count": 7,
     "metadata": {},
     "output_type": "execute_result"
    }
   ],
   "source": [
    "from datetime import datetime\n",
    "currentYear = datetime.now().year\n",
    "\n",
    "data['years_of_join']=0\n",
    "data.loc[currentYear - data.date_joined==1,'years_of_join']=-1\n",
    "data.loc[(currentYear - data.date_joined>1) & (currentYear - data.date_joined<=5),'years_of_join']=0\n",
    "data.loc[currentYear - data.date_joined>5,'years_of_join']=1\n",
    "data[\"years_of_join\"].value_counts(dropna=True)\n"
   ]
  },
  {
   "attachments": {},
   "cell_type": "markdown",
   "metadata": {},
   "source": [
    "If a number is below the average, it means that it is lower than the typical or expected value of the data. \n",
    "\n",
    "Conversely, if a number is above the average, it means that it is higher than the typical or expected value of the data."
   ]
  },
  {
   "attachments": {},
   "cell_type": "markdown",
   "metadata": {},
   "source": [
    "the avarage of following that a humain account can have "
   ]
  },
  {
   "cell_type": "code",
   "execution_count": 9,
   "metadata": {},
   "outputs": [
    {
     "data": {
      "text/plain": [
       "years_of_join\n",
       "-1      71.047904\n",
       " 0     435.536732\n",
       " 1    4128.516869\n",
       "Name: following_avg, dtype: float64"
      ]
     },
     "execution_count": 9,
     "metadata": {},
     "output_type": "execute_result"
    }
   ],
   "source": [
    "following_years_avg = data[data['account_type'] == 'human'].groupby('years_of_join')['following'].mean()\n",
    "following_years_avg = following_years_avg.rename('following_avg')\n",
    "following_years_avg\n"
   ]
  },
  {
   "cell_type": "code",
   "execution_count": 166,
   "metadata": {},
   "outputs": [],
   "source": [
    "\n",
    "data=data.merge(following_years_avg, on='years_of_join')\n",
    "\n",
    "data.loc[data.following<=data.following_avg,'following/years']=1\n",
    "# data.loc[data.followers==data.followers_avg,'followers/years']=0\n",
    "data.loc[data.following>data.following_avg,'following/years']=-1"
   ]
  },
  {
   "cell_type": "code",
   "execution_count": 167,
   "metadata": {},
   "outputs": [
    {
     "name": "stdout",
     "output_type": "stream",
     "text": [
      " 1.0    31688\n",
      "-1.0     2356\n",
      "Name: following/years, dtype: int64\n"
     ]
    },
    {
     "data": {
      "text/plain": [
       "human    22501\n",
       "bot      11543\n",
       "Name: account_type, dtype: int64"
      ]
     },
     "execution_count": 167,
     "metadata": {},
     "output_type": "execute_result"
    }
   ],
   "source": [
    "print(data[\"following/years\"].value_counts(dropna=True))\n",
    "data[\"account_type\"].value_counts(dropna=True)"
   ]
  },
  {
   "cell_type": "code",
   "execution_count": 24,
   "metadata": {},
   "outputs": [
    {
     "name": "stdout",
     "output_type": "stream",
     "text": [
      "       verified  statuses  location  date_joined  most_recent_post  following  \\\n",
      "0             0      7098         1         2009                 0      166.0   \n",
      "1             0       270         1         2010              2022      131.0   \n",
      "2             0     14302         0         2012              2023      440.0   \n",
      "3             0      4585         1         2009              2023      288.0   \n",
      "4             1     15851         1         2010              2022       39.0   \n",
      "...         ...       ...       ...          ...               ...        ...   \n",
      "34039         1     60100         1         2010              2023      181.0   \n",
      "34040         1     40277         0         2010              2023      129.0   \n",
      "34041         0      6679         0         2009              2022      231.0   \n",
      "34042         1      2580         1         2013              2023       49.0   \n",
      "34043         0      3566         0         2012              2023    21724.0   \n",
      "\n",
      "       followers  likes  lists  tweet_language  tweets_this_week  retweet  \\\n",
      "0          125.0  12213      2               0               0.0      0.0   \n",
      "1           55.0   1484      2               1               0.0     32.0   \n",
      "2          557.0   2958      2               1               0.0    154.0   \n",
      "3          111.0   7983      3               1               0.0    108.0   \n",
      "4        71644.0  20105    172               2               0.0     20.0   \n",
      "...          ...    ...    ...             ...               ...      ...   \n",
      "34039   417832.0  61532    876               1               8.0     94.0   \n",
      "34040    80306.0      1    182               8               0.0      0.0   \n",
      "34041   248542.0     28    372               4               0.0     16.0   \n",
      "34042  3383768.0    871    378               1               1.0      8.0   \n",
      "34043    23603.0    953     25               9              14.0    104.0   \n",
      "\n",
      "       retweeted_count  URL works  userNameScore  avg_tweets_by_hour_of_day  \\\n",
      "0                  0.0          0       0.428571                      0.000   \n",
      "1             103418.0          0       0.642857                      2.000   \n",
      "2             867392.0          0       0.000000                      8.083   \n",
      "3            2996382.0          0       0.909091                      8.167   \n",
      "4              66477.0          1       0.600000                      8.333   \n",
      "...                ...        ...            ...                        ...   \n",
      "34039        1375535.0          1       0.714286                      8.333   \n",
      "34040          15350.0          1       0.400000                      8.333   \n",
      "34041          18899.0          0       0.875000                      8.333   \n",
      "34042         145792.0          1       0.277778                      8.333   \n",
      "34043           1771.0          1       0.727273                      8.167   \n",
      "\n",
      "       avg_tweets_by_day_of_week account_type  \n",
      "0                          0.000          bot  \n",
      "1                          6.857        human  \n",
      "2                         27.714        human  \n",
      "3                         28.000        human  \n",
      "4                         28.571        human  \n",
      "...                          ...          ...  \n",
      "34039                     28.571        human  \n",
      "34040                     28.571        human  \n",
      "34041                     28.571        human  \n",
      "34042                     28.571        human  \n",
      "34043                     28.000        human  \n",
      "\n",
      "[34044 rows x 18 columns]\n"
     ]
    }
   ],
   "source": [
    "print(data)"
   ]
  },
  {
   "cell_type": "code",
   "execution_count": 156,
   "metadata": {},
   "outputs": [],
   "source": [
    "data =data.drop(['years_of_join','followers_avg'], axis=1)"
   ]
  },
  {
   "attachments": {},
   "cell_type": "markdown",
   "metadata": {},
   "source": [
    "relation entre followers et years_of_last_post"
   ]
  },
  {
   "cell_type": "code",
   "execution_count": 14,
   "metadata": {},
   "outputs": [
    {
     "data": {
      "text/plain": [
       " 1    15861\n",
       "-1    13355\n",
       " 0     4828\n",
       "Name: years_of_last_post, dtype: int64"
      ]
     },
     "execution_count": 14,
     "metadata": {},
     "output_type": "execute_result"
    }
   ],
   "source": [
    "currentYear = datetime.now().year\n",
    "\n",
    "data['years_of_last_post']=0\n",
    "# 2023\n",
    "data.loc[currentYear - data.most_recent_post==0,'years_of_last_post']=1\n",
    "# 2022 2021\n",
    "data.loc[(currentYear - data.most_recent_post>0) & (currentYear - data.date_joined<=2),'years_of_last_post']=0\n",
    "# 2020 ....\n",
    "data.loc[currentYear - data.most_recent_post>2,'years_of_last_post']=-1\n",
    "data[\"years_of_last_post\"].value_counts(dropna=True)"
   ]
  },
  {
   "cell_type": "code",
   "execution_count": 15,
   "metadata": {},
   "outputs": [
    {
     "data": {
      "text/plain": [
       "years_of_last_post\n",
       "-1     82474.014106\n",
       " 0    489794.521803\n",
       " 1    787054.283611\n",
       "Name: followers_avg, dtype: float64"
      ]
     },
     "execution_count": 15,
     "metadata": {},
     "output_type": "execute_result"
    }
   ],
   "source": [
    "followers_years_avg = data[data['account_type'] == 'human'].groupby('years_of_last_post')['followers'].mean()\n",
    "followers_years_avg = followers_years_avg.rename('followers_avg')\n",
    "followers_years_avg"
   ]
  },
  {
   "cell_type": "code",
   "execution_count": 16,
   "metadata": {},
   "outputs": [],
   "source": [
    "data=data.merge(followers_years_avg, on='years_of_last_post')\n",
    "\n",
    "data.loc[data.followers<=data.followers_avg,'followers/lastpost']=1\n",
    "# data.loc[data.followers==data.followers_avg,'followers/years']=0\n",
    "data.loc[data.followers>data.followers_avg,'followers/lastpost']=-1"
   ]
  },
  {
   "cell_type": "code",
   "execution_count": 17,
   "metadata": {},
   "outputs": [
    {
     "name": "stdout",
     "output_type": "stream",
     "text": [
      " 1.0    30257\n",
      "-1.0     3787\n",
      "Name: followers/lastpost, dtype: int64\n"
     ]
    },
    {
     "data": {
      "text/plain": [
       "human    22501\n",
       "bot      11543\n",
       "Name: account_type, dtype: int64"
      ]
     },
     "execution_count": 17,
     "metadata": {},
     "output_type": "execute_result"
    }
   ],
   "source": [
    "print(data[\"followers/lastpost\"].value_counts(dropna=True))\n",
    "data[\"account_type\"].value_counts(dropna=True)"
   ]
  }
 ],
 "metadata": {
  "kernelspec": {
   "display_name": "venv",
   "language": "python",
   "name": "python3"
  },
  "language_info": {
   "codemirror_mode": {
    "name": "ipython",
    "version": 3
   },
   "file_extension": ".py",
   "mimetype": "text/x-python",
   "name": "python",
   "nbconvert_exporter": "python",
   "pygments_lexer": "ipython3",
   "version": "3.10.6"
  },
  "orig_nbformat": 4,
  "vscode": {
   "interpreter": {
    "hash": "0b269af9bc916de9a69a9129747e30eb936050c74c311d5baf33ccd4b86d3e37"
   }
  }
 },
 "nbformat": 4,
 "nbformat_minor": 2
}

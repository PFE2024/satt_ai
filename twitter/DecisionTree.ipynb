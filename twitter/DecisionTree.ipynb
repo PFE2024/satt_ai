{
  "cells": [
    {
      "attachments": {},
      "cell_type": "markdown",
      "metadata": {},
      "source": [
        "Import"
      ]
    },
    {
      "cell_type": "code",
      "execution_count": 2,
      "metadata": {
        "trusted": true
      },
      "outputs": [],
      "source": [
        "import pandas as pd\n",
        "from sklearn.model_selection import train_test_split\n",
        "from sklearn.tree import DecisionTreeClassifier\n",
        "from sklearn.metrics import accuracy_score\n",
        "from sklearn import tree\n",
        "from sklearn import metrics\n",
        "from sklearn.metrics import classification_report\n",
        "from matplotlib import pyplot as plt\n",
        "import seaborn as sns"
      ]
    },
    {
      "attachments": {},
      "cell_type": "markdown",
      "metadata": {},
      "source": [
        "Load Data"
      ]
    },
    {
      "cell_type": "code",
      "execution_count": 54,
      "metadata": {},
      "outputs": [],
      "source": []
    },
    {
      "cell_type": "code",
      "execution_count": 55,
      "metadata": {},
      "outputs": [],
      "source": [
        "from datetime import datetime\n",
        "\n",
        "\n"
      ]
    },
    {
      "cell_type": "code",
      "execution_count": 3,
      "metadata": {},
      "outputs": [],
      "source": [
        "\n",
        "from sklearn.preprocessing import StandardScaler\n",
        "\n",
        "def extract_features(x):\n",
        "    x=x.loc[:,['verified','statuses','location','date_joined','most_recent_post','following','followers','likes','lists','tweet_language','tweets_this_week','retweet_ratio','retweeted_count','URL works','userNameScore','avg_tweets_by_hour_of_day','avg_tweets_by_day_of_week']]\n",
        "    return x\n",
        "\n",
        "data = pd.read_csv('./Data/featuresfloatv2.csv')\n",
        "data=data.loc[:,['verified','statuses','location','date_joined','most_recent_post','following','followers','likes','lists','tweet_language','tweets_this_week','retweet_ratio','retweeted_count','URL works','userNameScore','avg_tweets_by_hour_of_day','avg_tweets_by_day_of_week','fake_follower','account_type']]\n",
        "\n",
        "# Create an instance of StandardScaler\n",
        "scaler = StandardScaler()\n",
        "x=extract_features(data)\n",
        "# Fit the scaler to your data\n",
        "scaler.fit(x)\n",
        "\n",
        "# Transform your data using the scaler\n",
        "X_scaled = scaler.transform(x)\n"
      ]
    },
    {
      "cell_type": "code",
      "execution_count": 4,
      "metadata": {
        "trusted": true
      },
      "outputs": [],
      "source": [
        "\n",
        "y = data.account_type.values.tolist()\n",
        "\n",
        "\n",
        "x_train, x_test, y_train, y_test = train_test_split(X_scaled, y, test_size=0.2, random_state=48)\n"
      ]
    },
    {
      "attachments": {},
      "cell_type": "markdown",
      "metadata": {},
      "source": [
        "Train the decision tree model"
      ]
    },
    {
      "cell_type": "code",
      "execution_count": 5,
      "metadata": {
        "trusted": true
      },
      "outputs": [],
      "source": [
        "clt = DecisionTreeClassifier()\n",
        "clt.fit(x_train,y_train)\n",
        "\n",
        "y_pred_train = clt.predict(x_train)\n",
        "y_pred_test = clt.predict(x_test)\n"
      ]
    },
    {
      "attachments": {},
      "cell_type": "markdown",
      "metadata": {},
      "source": [
        "Calculate the accuracy of the model"
      ]
    },
    {
      "cell_type": "code",
      "execution_count": 6,
      "metadata": {
        "trusted": true
      },
      "outputs": [
        {
          "data": {
            "text/plain": [
              "0.8403583492436482"
            ]
          },
          "execution_count": 6,
          "metadata": {},
          "output_type": "execute_result"
        }
      ],
      "source": [
        "from sklearn.metrics import accuracy_score\n",
        "accuracy_score(y_test,  y_pred_test)\n"
      ]
    },
    {
      "attachments": {},
      "cell_type": "markdown",
      "metadata": {},
      "source": [
        "Calculate the classification report of the model"
      ]
    },
    {
      "cell_type": "code",
      "execution_count": 7,
      "metadata": {},
      "outputs": [
        {
          "name": "stdout",
          "output_type": "stream",
          "text": [
            "\n",
            "Training Accuracy score: 0.9999632825408482\n",
            "Testing Accuracy score: 0.8403583492436482\n",
            "DecisionTreeClassifier score: 0.9999632825408482\n",
            "classification_report \n",
            "               precision    recall  f1-score   support\n",
            "\n",
            "         bot       0.76      0.77      0.77      2295\n",
            "       human       0.88      0.88      0.88      4514\n",
            "\n",
            "    accuracy                           0.84      6809\n",
            "   macro avg       0.82      0.82      0.82      6809\n",
            "weighted avg       0.84      0.84      0.84      6809\n",
            "\n"
          ]
        },
        {
          "data": {
            "image/png": "[encoded data removed]",
            "text/plain": [
              "<Figure size 640x480 with 2 Axes>"
            ]
          },
          "metadata": {},
          "output_type": "display_data"
        }
      ],
      "source": [
        "print(\"\\nTraining Accuracy score:\",accuracy_score(y_train, y_pred_train))\n",
        "print(\"Testing Accuracy score:\",accuracy_score(y_test, y_pred_test))\n",
        "print(\"DecisionTreeClassifier score:\",clt.score(x_train, y_train))\n",
        "print(\"classification_report \\n \"+classification_report(y_test, y_pred_test))\n",
        "\n",
        "from sklearn.metrics import confusion_matrix\n",
        "cm = metrics.confusion_matrix(y_test,  y_pred_test)\n",
        "\n",
        "cm_matrixNB = pd.DataFrame(data=cm, columns=[ 'human', 'bot'], \n",
        "                        index=[ 'human', 'bot'])\n",
        "sns.heatmap(cm_matrixNB, annot=True, fmt='d', cmap='YlGnBu')\n",
        "plt.show()"
      ]
    },
    {
      "cell_type": "code",
      "execution_count": 20,
      "metadata": {
        "trusted": true
      },
      "outputs": [
        {
          "data": {
            "image/png": "[encoded data removed]",
            "text/plain": [
              "<Figure size 640x480 with 2 Axes>"
            ]
          },
          "metadata": {},
          "output_type": "display_data"
        }
      ],
      "source": [
        "\n"
      ]
    }
  ],
  "metadata": {
    "kernelspec": {
      "display_name": "venv",
      "language": "python",
      "name": "python3"
    },
    "language_info": {
      "codemirror_mode": {
        "name": "ipython",
        "version": 3
      },
      "file_extension": ".py",
      "mimetype": "text/x-python",
      "name": "python",
      "nbconvert_exporter": "python",
      "pygments_lexer": "ipython3",
      "version": "3.10.6"
    },
    "vscode": {
      "interpreter": {
        "hash": "f27a746d362097657e5b498fa7157a5dc901e7fde87c7e9f4905820e8053aba1"
      }
    }
  },
  "nbformat": 4,
  "nbformat_minor": 4
}

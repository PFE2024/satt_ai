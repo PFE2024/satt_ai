{
 "cells": [
  {
   "cell_type": "code",
   "execution_count": 1,
   "metadata": {},
   "outputs": [
    {
     "ename": "GraphAPIError",
     "evalue": "Invalid OAuth access token - Cannot parse access token",
     "output_type": "error",
     "traceback": [
      "\u001b[0;31m---------------------------------------------------------------------------\u001b[0m",
      "\u001b[0;31mGraphAPIError\u001b[0m                             Traceback (most recent call last)",
      "Cell \u001b[0;32mIn[1], line 17\u001b[0m\n\u001b[1;32m     15\u001b[0m \t\u001b[39mprint\u001b[39m(json\u001b[39m.\u001b[39mdumps(page,indent\u001b[39m=\u001b[39m\u001b[39m4\u001b[39m))\n\u001b[1;32m     16\u001b[0m \u001b[39mif\u001b[39;00m \u001b[39m__name__\u001b[39m \u001b[39m==\u001b[39m \u001b[39m'\u001b[39m\u001b[39m__main__\u001b[39m\u001b[39m'\u001b[39m:\n\u001b[0;32m---> 17\u001b[0m \tmain()\n",
      "Cell \u001b[0;32mIn[1], line 14\u001b[0m, in \u001b[0;36mmain\u001b[0;34m()\u001b[0m\n\u001b[1;32m     10\u001b[0m fields \u001b[39m=\u001b[39m [\u001b[39m'\u001b[39m\u001b[39mid\u001b[39m\u001b[39m'\u001b[39m,\u001b[39m'\u001b[39m\u001b[39mname\u001b[39m\u001b[39m'\u001b[39m,\u001b[39m'\u001b[39m\u001b[39mabout\u001b[39m\u001b[39m'\u001b[39m,\u001b[39m'\u001b[39m\u001b[39mlikes\u001b[39m\u001b[39m'\u001b[39m,\u001b[39m'\u001b[39m\u001b[39mlink\u001b[39m\u001b[39m'\u001b[39m,\u001b[39m'\u001b[39m\u001b[39mband_members\u001b[39m\u001b[39m'\u001b[39m]\n\u001b[1;32m     12\u001b[0m fields \u001b[39m=\u001b[39m \u001b[39m'\u001b[39m\u001b[39m,\u001b[39m\u001b[39m'\u001b[39m\u001b[39m.\u001b[39mjoin(fields)\n\u001b[0;32m---> 14\u001b[0m page \u001b[39m=\u001b[39m graph\u001b[39m.\u001b[39;49mrequest(\u001b[39m'\u001b[39;49m\u001b[39m/search?q=Poetry&type=page&limit=10000\u001b[39;49m\u001b[39m'\u001b[39;49m)\n\u001b[1;32m     15\u001b[0m \u001b[39mprint\u001b[39m(json\u001b[39m.\u001b[39mdumps(page,indent\u001b[39m=\u001b[39m\u001b[39m4\u001b[39m))\n",
      "File \u001b[0;32m~/Documents/AI/venv/lib/python3.10/site-packages/facebook/__init__.py:313\u001b[0m, in \u001b[0;36mGraphAPI.request\u001b[0;34m(self, path, args, post_args, files, method)\u001b[0m\n\u001b[1;32m    310\u001b[0m     \u001b[39mraise\u001b[39;00m GraphAPIError(\u001b[39m\"\u001b[39m\u001b[39mMaintype was not text, image, or querystring\u001b[39m\u001b[39m\"\u001b[39m)\n\u001b[1;32m    312\u001b[0m \u001b[39mif\u001b[39;00m result \u001b[39mand\u001b[39;00m \u001b[39misinstance\u001b[39m(result, \u001b[39mdict\u001b[39m) \u001b[39mand\u001b[39;00m result\u001b[39m.\u001b[39mget(\u001b[39m\"\u001b[39m\u001b[39merror\u001b[39m\u001b[39m\"\u001b[39m):\n\u001b[0;32m--> 313\u001b[0m     \u001b[39mraise\u001b[39;00m GraphAPIError(result)\n\u001b[1;32m    314\u001b[0m \u001b[39mreturn\u001b[39;00m result\n",
      "\u001b[0;31mGraphAPIError\u001b[0m: Invalid OAuth access token - Cannot parse access token"
     ]
    }
   ],
   "source": [
    "import json\n",
    "import facebook\n",
    "\n",
    "def main():\n",
    "\ttoken = \"b56d2b9364ede895dbd430df3288fc20\"\n",
    "\tgraph = facebook.GraphAPI(token)\n",
    "\tpage_name = \"145647315578475\"\n",
    "\t\n",
    "\t# list of required fields\n",
    "\tfields = ['id','name','about','likes','link','band_members']\n",
    "\t\n",
    "\tfields = ','.join(fields)\n",
    "\t\n",
    "\tpage = graph.request('/search?q=Poetry&type=page&limit=10000')\n",
    "\tprint(json.dumps(page,indent=4))\n",
    "if __name__ == '__main__':\n",
    "\tmain()"
   ]
  },
  {
   "cell_type": "code",
   "execution_count": 15,
   "metadata": {},
   "outputs": [
    {
     "data": {
      "text/plain": [
       "{'data': []}"
      ]
     },
     "execution_count": 15,
     "metadata": {},
     "output_type": "execute_result"
    }
   ],
   "source": [
    "import requests\n",
    "import facebook\n",
    "\n",
    "# Remplacez \"YOUR_APP_ID\" et \"YOUR_APP_SECRET\" par les valeurs de votre application Facebook\n",
    "app_id = \"1878908045896980\"\n",
    "app_secret = \"f5327df502d485a1c6313c195545ec96\"\n",
    "\n",
    "# Obtenez un jeton d'accès d'application en utilisant votre ID d'application et votre secret d'application\n",
    "access_token_url = f\"https://graph.facebook.com/oauth/access_token?client_id={app_id}&client_secret={app_secret}&grant_type=client_credentials\"\n",
    "response = requests.get(access_token_url)\n",
    "access_token = response.json()['access_token']\n",
    "graph = facebook.GraphAPI(access_token)\n",
    "page = graph.request('/search?q=Poetry&type=event&limit=10000')\n",
    "page\n"
   ]
  },
  {
   "cell_type": "code",
   "execution_count": 41,
   "metadata": {},
   "outputs": [
    {
     "name": "stdout",
     "output_type": "stream",
     "text": [
      "{'access_token': '2097234380575759|7HsF9qCgrrUVWqLrrTpjGvHBkD8', 'token_type': 'bearer'}\n"
     ]
    },
    {
     "data": {
      "text/plain": [
       "{'data': []}"
      ]
     },
     "execution_count": 41,
     "metadata": {},
     "output_type": "execute_result"
    }
   ],
   "source": [
    "from decouple import config\n",
    "\n",
    "APPID = config('APPID') \n",
    "APP_SECRET = config('APP_SECRET') \n",
    "# Obtenez un jeton d'accès d'application en utilisant votre ID d'application et votre secret d'application\n",
    "access_token_url = f\"https://graph.facebook.com/oauth/access_token?client_id={APPID}&client_secret={APP_SECRET}&grant_type=client_credentials\"\n",
    "response = requests.get(access_token_url)\n",
    "print(response.json())\n",
    "access_token = response.json()['access_token']\n",
    "graph = facebook.GraphAPI(access_token)\n",
    "page = graph.request('/search?q=Maquilleur&type=page')\n",
    "page"
   ]
  },
  {
   "cell_type": "code",
   "execution_count": 35,
   "metadata": {},
   "outputs": [
    {
     "name": "stdout",
     "output_type": "stream",
     "text": [
      "{'name': 'Programming from zero', 'id': '100064072150631'}\n"
     ]
    }
   ],
   "source": [
    "import facebook\n",
    "\n",
    "\n",
    "\n",
    "\n",
    "graph = facebook.GraphAPI()\n",
    "app_token = graph.get_app_access_token(APPID, APP_SECRET)\n",
    "\n",
    "\n",
    "page_id = '100064072150631'\n",
    "fields = 'name, about, id'\n",
    "\n",
    "graph = facebook.GraphAPI(access_token=app_token, version='2.8')\n",
    "page_info = graph.get_object(page_id,fields=fields)\n",
    "print(page_info)"
   ]
  }
 ],
 "metadata": {
  "kernelspec": {
   "display_name": "venv",
   "language": "python",
   "name": "python3"
  },
  "language_info": {
   "codemirror_mode": {
    "name": "ipython",
    "version": 3
   },
   "file_extension": ".py",
   "mimetype": "text/x-python",
   "name": "python",
   "nbconvert_exporter": "python",
   "pygments_lexer": "ipython3",
   "version": "3.10.6"
  },
  "orig_nbformat": 4,
  "vscode": {
   "interpreter": {
    "hash": "0b269af9bc916de9a69a9129747e30eb936050c74c311d5baf33ccd4b86d3e37"
   }
  }
 },
 "nbformat": 4,
 "nbformat_minor": 2
}

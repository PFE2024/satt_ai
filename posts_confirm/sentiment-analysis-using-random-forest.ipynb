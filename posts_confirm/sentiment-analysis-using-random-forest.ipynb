{
 "cells": [
  {
   "cell_type": "markdown",
   "id": "d9d95991",
   "metadata": {
    "papermill": {
     "duration": 0.008641,
     "end_time": "2023-04-02T02:53:22.157209",
     "exception": false,
     "start_time": "2023-04-02T02:53:22.148568",
     "status": "completed"
    },
    "tags": []
   },
   "source": [
    "# 1 Dataset"
   ]
  },
  {
   "cell_type": "code",
   "execution_count": 13,
   "id": "99b2bd71",
   "metadata": {
    "execution": {
     "iopub.execute_input": "2023-04-02T02:53:22.174491Z",
     "iopub.status.busy": "2023-04-02T02:53:22.173779Z",
     "iopub.status.idle": "2023-04-02T02:53:23.833484Z",
     "shell.execute_reply": "2023-04-02T02:53:23.831534Z"
    },
    "papermill": {
     "duration": 1.671967,
     "end_time": "2023-04-02T02:53:23.836671",
     "exception": false,
     "start_time": "2023-04-02T02:53:22.164704",
     "status": "completed"
    },
    "tags": []
   },
   "outputs": [],
   "source": [
    "import pandas as pd\n",
    "#from Twitterpreprocessor import TwitterPreprocessor\n",
    "import matplotlib.pyplot as plt\n",
    "import re\n",
    "import nltk"
   ]
  },
  {
   "cell_type": "code",
   "execution_count": 14,
   "id": "67eef003",
   "metadata": {
    "execution": {
     "iopub.execute_input": "2023-04-02T02:53:23.854842Z",
     "iopub.status.busy": "2023-04-02T02:53:23.854367Z",
     "iopub.status.idle": "2023-04-02T02:53:24.740537Z",
     "shell.execute_reply": "2023-04-02T02:53:24.739295Z"
    },
    "papermill": {
     "duration": 0.898911,
     "end_time": "2023-04-02T02:53:24.743874",
     "exception": false,
     "start_time": "2023-04-02T02:53:23.844963",
     "status": "completed"
    },
    "tags": []
   },
   "outputs": [
    {
     "data": {
      "text/html": [
       "<div>\n",
       "<style scoped>\n",
       "    .dataframe tbody tr th:only-of-type {\n",
       "        vertical-align: middle;\n",
       "    }\n",
       "\n",
       "    .dataframe tbody tr th {\n",
       "        vertical-align: top;\n",
       "    }\n",
       "\n",
       "    .dataframe thead th {\n",
       "        text-align: right;\n",
       "    }\n",
       "</style>\n",
       "<table border=\"1\" class=\"dataframe\">\n",
       "  <thead>\n",
       "    <tr style=\"text-align: right;\">\n",
       "      <th></th>\n",
       "      <th>File Name</th>\n",
       "      <th>Caption</th>\n",
       "      <th>LABEL</th>\n",
       "    </tr>\n",
       "  </thead>\n",
       "  <tbody>\n",
       "    <tr>\n",
       "      <th>0</th>\n",
       "      <td>1.txt</td>\n",
       "      <td>How I feel today #legday #jelly #aching #gym</td>\n",
       "      <td>negative</td>\n",
       "    </tr>\n",
       "    <tr>\n",
       "      <th>1</th>\n",
       "      <td>10.txt</td>\n",
       "      <td>@ArrivaTW absolute disgrace two carriages from...</td>\n",
       "      <td>negative</td>\n",
       "    </tr>\n",
       "    <tr>\n",
       "      <th>2</th>\n",
       "      <td>100.txt</td>\n",
       "      <td>This is my Valentine's from 1 of my nephews. I...</td>\n",
       "      <td>positive</td>\n",
       "    </tr>\n",
       "    <tr>\n",
       "      <th>3</th>\n",
       "      <td>1000.txt</td>\n",
       "      <td>betterfeelingfilms: RT via Instagram: First da...</td>\n",
       "      <td>neutral</td>\n",
       "    </tr>\n",
       "    <tr>\n",
       "      <th>4</th>\n",
       "      <td>1001.txt</td>\n",
       "      <td>Zoe's first love #Rattled @JohnnyHarper15</td>\n",
       "      <td>positive</td>\n",
       "    </tr>\n",
       "    <tr>\n",
       "      <th>...</th>\n",
       "      <td>...</td>\n",
       "      <td>...</td>\n",
       "      <td>...</td>\n",
       "    </tr>\n",
       "    <tr>\n",
       "      <th>4864</th>\n",
       "      <td>995.txt</td>\n",
       "      <td>OMG. Well done #Eskom! 'Man dies during #LoadS...</td>\n",
       "      <td>positive</td>\n",
       "    </tr>\n",
       "    <tr>\n",
       "      <th>4865</th>\n",
       "      <td>996.txt</td>\n",
       "      <td>Feelin' the love in here! #ValentinesDay #caring</td>\n",
       "      <td>positive</td>\n",
       "    </tr>\n",
       "    <tr>\n",
       "      <th>4866</th>\n",
       "      <td>997.txt</td>\n",
       "      <td>#blue #eyes can't be #beaten</td>\n",
       "      <td>neutral</td>\n",
       "    </tr>\n",
       "    <tr>\n",
       "      <th>4867</th>\n",
       "      <td>998.txt</td>\n",
       "      <td>LA CHUCHA LOUUU TE CHUPO LOS OJOS..!</td>\n",
       "      <td>neutral</td>\n",
       "    </tr>\n",
       "    <tr>\n",
       "      <th>4868</th>\n",
       "      <td>999.txt</td>\n",
       "      <td>#colorsplash_bw #zealous Remedios #herbales y ...</td>\n",
       "      <td>positive</td>\n",
       "    </tr>\n",
       "  </tbody>\n",
       "</table>\n",
       "<p>4869 rows × 3 columns</p>\n",
       "</div>"
      ],
      "text/plain": [
       "     File Name                                            Caption     LABEL\n",
       "0        1.txt      How I feel today #legday #jelly #aching #gym   negative\n",
       "1       10.txt  @ArrivaTW absolute disgrace two carriages from...  negative\n",
       "2      100.txt  This is my Valentine's from 1 of my nephews. I...  positive\n",
       "3     1000.txt  betterfeelingfilms: RT via Instagram: First da...   neutral\n",
       "4     1001.txt         Zoe's first love #Rattled @JohnnyHarper15   positive\n",
       "...        ...                                                ...       ...\n",
       "4864   995.txt  OMG. Well done #Eskom! 'Man dies during #LoadS...  positive\n",
       "4865   996.txt  Feelin' the love in here! #ValentinesDay #caring   positive\n",
       "4866   997.txt                      #blue #eyes can't be #beaten    neutral\n",
       "4867   998.txt              LA CHUCHA LOUUU TE CHUPO LOS OJOS..!    neutral\n",
       "4868   999.txt  #colorsplash_bw #zealous Remedios #herbales y ...  positive\n",
       "\n",
       "[4869 rows x 3 columns]"
      ]
     },
     "execution_count": 14,
     "metadata": {},
     "output_type": "execute_result"
    }
   ],
   "source": [
    "data = pd.read_excel('./data/LabeledText.xlsx')\n",
    "data"
   ]
  },
  {
   "cell_type": "code",
   "execution_count": 15,
   "id": "14931a52",
   "metadata": {
    "execution": {
     "iopub.execute_input": "2023-04-02T02:53:24.761578Z",
     "iopub.status.busy": "2023-04-02T02:53:24.760485Z",
     "iopub.status.idle": "2023-04-02T02:53:24.772501Z",
     "shell.execute_reply": "2023-04-02T02:53:24.771110Z"
    },
    "papermill": {
     "duration": 0.02415,
     "end_time": "2023-04-02T02:53:24.775609",
     "exception": false,
     "start_time": "2023-04-02T02:53:24.751459",
     "status": "completed"
    },
    "tags": []
   },
   "outputs": [
    {
     "data": {
      "text/plain": [
       "File Name    0\n",
       "Caption      0\n",
       "LABEL        0\n",
       "dtype: int64"
      ]
     },
     "execution_count": 15,
     "metadata": {},
     "output_type": "execute_result"
    }
   ],
   "source": [
    "data.isnull().sum()"
   ]
  },
  {
   "cell_type": "code",
   "execution_count": 16,
   "id": "89e65579",
   "metadata": {
    "execution": {
     "iopub.execute_input": "2023-04-02T02:53:24.793641Z",
     "iopub.status.busy": "2023-04-02T02:53:24.792565Z",
     "iopub.status.idle": "2023-04-02T02:53:24.816761Z",
     "shell.execute_reply": "2023-04-02T02:53:24.815489Z"
    },
    "papermill": {
     "duration": 0.035902,
     "end_time": "2023-04-02T02:53:24.819298",
     "exception": false,
     "start_time": "2023-04-02T02:53:24.783396",
     "status": "completed"
    },
    "tags": []
   },
   "outputs": [
    {
     "name": "stdout",
     "output_type": "stream",
     "text": [
      "<class 'pandas.core.frame.DataFrame'>\n",
      "RangeIndex: 4869 entries, 0 to 4868\n",
      "Data columns (total 3 columns):\n",
      " #   Column     Non-Null Count  Dtype \n",
      "---  ------     --------------  ----- \n",
      " 0   File Name  4869 non-null   object\n",
      " 1   Caption    4869 non-null   object\n",
      " 2   LABEL      4869 non-null   object\n",
      "dtypes: object(3)\n",
      "memory usage: 114.2+ KB\n"
     ]
    }
   ],
   "source": [
    "data.info()"
   ]
  },
  {
   "cell_type": "code",
   "execution_count": 17,
   "id": "feab408b",
   "metadata": {
    "execution": {
     "iopub.execute_input": "2023-04-02T02:53:24.837408Z",
     "iopub.status.busy": "2023-04-02T02:53:24.836704Z",
     "iopub.status.idle": "2023-04-02T02:53:24.844863Z",
     "shell.execute_reply": "2023-04-02T02:53:24.843991Z"
    },
    "papermill": {
     "duration": 0.020091,
     "end_time": "2023-04-02T02:53:24.847336",
     "exception": false,
     "start_time": "2023-04-02T02:53:24.827245",
     "status": "completed"
    },
    "tags": []
   },
   "outputs": [],
   "source": [
    "drop_neutral = data[ data['LABEL'] == 'neutral' ].index\n",
    "data.drop(drop_neutral, inplace = True)"
   ]
  },
  {
   "cell_type": "code",
   "execution_count": 18,
   "id": "152655a2",
   "metadata": {
    "execution": {
     "iopub.execute_input": "2023-04-02T02:53:24.864240Z",
     "iopub.status.busy": "2023-04-02T02:53:24.863807Z",
     "iopub.status.idle": "2023-04-02T02:53:24.871836Z",
     "shell.execute_reply": "2023-04-02T02:53:24.870628Z"
    },
    "papermill": {
     "duration": 0.01952,
     "end_time": "2023-04-02T02:53:24.874524",
     "exception": false,
     "start_time": "2023-04-02T02:53:24.855004",
     "status": "completed"
    },
    "tags": []
   },
   "outputs": [],
   "source": [
    "data.loc[data[\"LABEL\"] == \"negative\", \"LABEL\"] = 0\n",
    "data.loc[data[\"LABEL\"] == \"positive\", \"LABEL\"] = 1"
   ]
  },
  {
   "cell_type": "code",
   "execution_count": 19,
   "id": "da525a39",
   "metadata": {
    "execution": {
     "iopub.execute_input": "2023-04-02T02:53:24.892872Z",
     "iopub.status.busy": "2023-04-02T02:53:24.891993Z",
     "iopub.status.idle": "2023-04-02T02:53:24.901187Z",
     "shell.execute_reply": "2023-04-02T02:53:24.900216Z"
    },
    "papermill": {
     "duration": 0.021049,
     "end_time": "2023-04-02T02:53:24.903543",
     "exception": false,
     "start_time": "2023-04-02T02:53:24.882494",
     "status": "completed"
    },
    "tags": []
   },
   "outputs": [
    {
     "data": {
      "text/plain": [
       "1    1646\n",
       "0    1452\n",
       "Name: LABEL, dtype: int64"
      ]
     },
     "execution_count": 19,
     "metadata": {},
     "output_type": "execute_result"
    }
   ],
   "source": [
    "data['LABEL'].value_counts()"
   ]
  },
  {
   "cell_type": "code",
   "execution_count": 20,
   "id": "e770b580",
   "metadata": {
    "execution": {
     "iopub.execute_input": "2023-04-02T02:53:24.921388Z",
     "iopub.status.busy": "2023-04-02T02:53:24.920607Z",
     "iopub.status.idle": "2023-04-02T02:53:24.927399Z",
     "shell.execute_reply": "2023-04-02T02:53:24.926525Z"
    },
    "papermill": {
     "duration": 0.018395,
     "end_time": "2023-04-02T02:53:24.929764",
     "exception": false,
     "start_time": "2023-04-02T02:53:24.911369",
     "status": "completed"
    },
    "tags": []
   },
   "outputs": [],
   "source": [
    "data = data.astype({\"LABEL\": int})"
   ]
  },
  {
   "cell_type": "code",
   "execution_count": 21,
   "id": "738964e2",
   "metadata": {
    "execution": {
     "iopub.execute_input": "2023-04-02T02:53:24.947780Z",
     "iopub.status.busy": "2023-04-02T02:53:24.947070Z",
     "iopub.status.idle": "2023-04-02T02:53:25.340678Z",
     "shell.execute_reply": "2023-04-02T02:53:25.338881Z"
    },
    "papermill": {
     "duration": 0.408276,
     "end_time": "2023-04-02T02:53:25.346102",
     "exception": false,
     "start_time": "2023-04-02T02:53:24.937826",
     "status": "completed"
    },
    "tags": []
   },
   "outputs": [
    {
     "data": {
      "image/png": "[encoded data removed]",
      "text/plain": [
       "<Figure size 600x600 with 1 Axes>"
      ]
     },
     "metadata": {},
     "output_type": "display_data"
    }
   ],
   "source": [
    "data['LABEL'].value_counts().plot.pie(figsize=(6,6),title=\"Distribution of reviews per sentiment\",labels=['',''],autopct='%1.1f%%')\n",
    "labels=[\"Positive\",\"Negative\"]\n",
    "plt.legend(labels,loc=3)\n",
    "plt.gca().set_aspect('equal')"
   ]
  },
  {
   "cell_type": "markdown",
   "id": "e6f630c6",
   "metadata": {
    "papermill": {
     "duration": 0.009186,
     "end_time": "2023-04-02T02:53:25.366931",
     "exception": false,
     "start_time": "2023-04-02T02:53:25.357745",
     "status": "completed"
    },
    "tags": []
   },
   "source": [
    "# 2 Data Pre-Processing"
   ]
  },
  {
   "cell_type": "markdown",
   "id": "f13588ba",
   "metadata": {
    "papermill": {
     "duration": 0.008143,
     "end_time": "2023-04-02T02:53:25.384507",
     "exception": false,
     "start_time": "2023-04-02T02:53:25.376364",
     "status": "completed"
    },
    "tags": []
   },
   "source": [
    "## 2.1 Cleaning Data + Stopwords Remove"
   ]
  },
  {
   "cell_type": "code",
   "execution_count": 22,
   "id": "2baba0b6",
   "metadata": {
    "execution": {
     "iopub.execute_input": "2023-04-02T02:53:25.403411Z",
     "iopub.status.busy": "2023-04-02T02:53:25.402894Z",
     "iopub.status.idle": "2023-04-02T02:53:25.495885Z",
     "shell.execute_reply": "2023-04-02T02:53:25.494547Z"
    },
    "papermill": {
     "duration": 0.105725,
     "end_time": "2023-04-02T02:53:25.498854",
     "exception": false,
     "start_time": "2023-04-02T02:53:25.393129",
     "status": "completed"
    },
    "tags": []
   },
   "outputs": [
    {
     "data": {
      "text/html": [
       "<div>\n",
       "<style scoped>\n",
       "    .dataframe tbody tr th:only-of-type {\n",
       "        vertical-align: middle;\n",
       "    }\n",
       "\n",
       "    .dataframe tbody tr th {\n",
       "        vertical-align: top;\n",
       "    }\n",
       "\n",
       "    .dataframe thead th {\n",
       "        text-align: right;\n",
       "    }\n",
       "</style>\n",
       "<table border=\"1\" class=\"dataframe\">\n",
       "  <thead>\n",
       "    <tr style=\"text-align: right;\">\n",
       "      <th></th>\n",
       "      <th>File Name</th>\n",
       "      <th>Caption</th>\n",
       "      <th>LABEL</th>\n",
       "      <th>cleaning_data</th>\n",
       "    </tr>\n",
       "  </thead>\n",
       "  <tbody>\n",
       "    <tr>\n",
       "      <th>0</th>\n",
       "      <td>1.txt</td>\n",
       "      <td>How I feel today #legday #jelly #aching #gym</td>\n",
       "      <td>0</td>\n",
       "      <td>feel today legday jelly aching</td>\n",
       "    </tr>\n",
       "    <tr>\n",
       "      <th>1</th>\n",
       "      <td>10.txt</td>\n",
       "      <td>@ArrivaTW absolute disgrace two carriages from...</td>\n",
       "      <td>0</td>\n",
       "      <td>absolute disgrace carriages bangor half standi...</td>\n",
       "    </tr>\n",
       "    <tr>\n",
       "      <th>2</th>\n",
       "      <td>100.txt</td>\n",
       "      <td>This is my Valentine's from 1 of my nephews. I...</td>\n",
       "      <td>1</td>\n",
       "      <td>this valentines nephews elated sometimes littl...</td>\n",
       "    </tr>\n",
       "    <tr>\n",
       "      <th>4</th>\n",
       "      <td>1001.txt</td>\n",
       "      <td>Zoe's first love #Rattled @JohnnyHarper15</td>\n",
       "      <td>1</td>\n",
       "      <td>zoes first love rattled</td>\n",
       "    </tr>\n",
       "    <tr>\n",
       "      <th>5</th>\n",
       "      <td>1002.txt</td>\n",
       "      <td>Chaotic Love - giclee print ?65 at #art #love ...</td>\n",
       "      <td>1</td>\n",
       "      <td>chaotic love giclee print love chaotic abstrac...</td>\n",
       "    </tr>\n",
       "    <tr>\n",
       "      <th>...</th>\n",
       "      <td>...</td>\n",
       "      <td>...</td>\n",
       "      <td>...</td>\n",
       "      <td>...</td>\n",
       "    </tr>\n",
       "    <tr>\n",
       "      <th>4862</th>\n",
       "      <td>993.txt</td>\n",
       "      <td>#Fanghorn forest or #Alder #woodland up Glen #...</td>\n",
       "      <td>0</td>\n",
       "      <td>fanghorn forest alder woodland glen vorlich lo...</td>\n",
       "    </tr>\n",
       "    <tr>\n",
       "      <th>4863</th>\n",
       "      <td>994.txt</td>\n",
       "      <td>Where there¡¯s a whisk, there¡¯s a way. #power...</td>\n",
       "      <td>0</td>\n",
       "      <td>where there whisk powerless bakersgonnabake</td>\n",
       "    </tr>\n",
       "    <tr>\n",
       "      <th>4864</th>\n",
       "      <td>995.txt</td>\n",
       "      <td>OMG. Well done #Eskom! 'Man dies during #LoadS...</td>\n",
       "      <td>1</td>\n",
       "      <td>well done eskom dies loadshedding powerless</td>\n",
       "    </tr>\n",
       "    <tr>\n",
       "      <th>4865</th>\n",
       "      <td>996.txt</td>\n",
       "      <td>Feelin' the love in here! #ValentinesDay #caring</td>\n",
       "      <td>1</td>\n",
       "      <td>feelin love valentinesday caring</td>\n",
       "    </tr>\n",
       "    <tr>\n",
       "      <th>4868</th>\n",
       "      <td>999.txt</td>\n",
       "      <td>#colorsplash_bw #zealous Remedios #herbales y ...</td>\n",
       "      <td>1</td>\n",
       "      <td>colorsplashbw zealous remedios herbales tratam...</td>\n",
       "    </tr>\n",
       "  </tbody>\n",
       "</table>\n",
       "<p>3098 rows × 4 columns</p>\n",
       "</div>"
      ],
      "text/plain": [
       "     File Name                                            Caption  LABEL  \\\n",
       "0        1.txt      How I feel today #legday #jelly #aching #gym       0   \n",
       "1       10.txt  @ArrivaTW absolute disgrace two carriages from...      0   \n",
       "2      100.txt  This is my Valentine's from 1 of my nephews. I...      1   \n",
       "4     1001.txt         Zoe's first love #Rattled @JohnnyHarper15       1   \n",
       "5     1002.txt  Chaotic Love - giclee print ?65 at #art #love ...      1   \n",
       "...        ...                                                ...    ...   \n",
       "4862   993.txt  #Fanghorn forest or #Alder #woodland up Glen #...      0   \n",
       "4863   994.txt  Where there¡¯s a whisk, there¡¯s a way. #power...      0   \n",
       "4864   995.txt  OMG. Well done #Eskom! 'Man dies during #LoadS...      1   \n",
       "4865   996.txt  Feelin' the love in here! #ValentinesDay #caring       1   \n",
       "4868   999.txt  #colorsplash_bw #zealous Remedios #herbales y ...      1   \n",
       "\n",
       "                                          cleaning_data  \n",
       "0                        feel today legday jelly aching  \n",
       "1     absolute disgrace carriages bangor half standi...  \n",
       "2     this valentines nephews elated sometimes littl...  \n",
       "4                               zoes first love rattled  \n",
       "5     chaotic love giclee print love chaotic abstrac...  \n",
       "...                                                 ...  \n",
       "4862  fanghorn forest alder woodland glen vorlich lo...  \n",
       "4863        where there whisk powerless bakersgonnabake  \n",
       "4864        well done eskom dies loadshedding powerless  \n",
       "4865                   feelin love valentinesday caring  \n",
       "4868  colorsplashbw zealous remedios herbales tratam...  \n",
       "\n",
       "[3098 rows x 4 columns]"
      ]
     },
     "execution_count": 22,
     "metadata": {},
     "output_type": "execute_result"
    }
   ],
   "source": [
    "from Twitterpreprocessor import TwitterPreprocessor\n",
    "data['cleaning_data'] = data['Caption'].apply(lambda x :TwitterPreprocessor(str(x)).fully_preprocess().text)\n",
    "#data['cleaning_data'] = data['Caption'].apply(lambda x: remove(x.lower()))\n",
    "data"
   ]
  },
  {
   "cell_type": "code",
   "execution_count": 23,
   "id": "1c49ab92",
   "metadata": {
    "execution": {
     "iopub.execute_input": "2023-04-02T02:53:25.517799Z",
     "iopub.status.busy": "2023-04-02T02:53:25.517367Z",
     "iopub.status.idle": "2023-04-02T02:53:25.527857Z",
     "shell.execute_reply": "2023-04-02T02:53:25.526593Z"
    },
    "papermill": {
     "duration": 0.022887,
     "end_time": "2023-04-02T02:53:25.530196",
     "exception": false,
     "start_time": "2023-04-02T02:53:25.507309",
     "status": "completed"
    },
    "tags": []
   },
   "outputs": [],
   "source": [
    "data.drop_duplicates(subset =\"cleaning_data\", keep = 'first', inplace = True)"
   ]
  },
  {
   "cell_type": "markdown",
   "id": "8199c8ca",
   "metadata": {
    "papermill": {
     "duration": 0.008218,
     "end_time": "2023-04-02T02:53:25.632818",
     "exception": false,
     "start_time": "2023-04-02T02:53:25.624600",
     "status": "completed"
    },
    "tags": []
   },
   "source": [
    "## 2.3 Stemming"
   ]
  },
  {
   "attachments": {},
   "cell_type": "markdown",
   "id": "b9fc4a09",
   "metadata": {},
   "source": [
    "utilisé pour réduire les mots à leur racine, appelée \"stem\"                                             \n",
    "Mot original : \"marche\"\n",
    "Stem : \"march\""
   ]
  },
  {
   "cell_type": "code",
   "execution_count": 24,
   "id": "162a9b62",
   "metadata": {
    "execution": {
     "iopub.execute_input": "2023-04-02T02:53:25.652337Z",
     "iopub.status.busy": "2023-04-02T02:53:25.651473Z",
     "iopub.status.idle": "2023-04-02T02:53:26.318637Z",
     "shell.execute_reply": "2023-04-02T02:53:26.317672Z"
    },
    "papermill": {
     "duration": 0.679947,
     "end_time": "2023-04-02T02:53:26.321337",
     "exception": false,
     "start_time": "2023-04-02T02:53:25.641390",
     "status": "completed"
    },
    "tags": []
   },
   "outputs": [],
   "source": [
    "from nltk.stem import PorterStemmer\n",
    "ps = PorterStemmer()\n",
    "def porterstemmer(text):\n",
    "  text = ' '.join(ps.stem(word) for word in text.split() if word in text)\n",
    "  return text  \n",
    "data['tweet_stem'] = data['cleaning_data'].apply(porterstemmer)"
   ]
  },
  {
   "attachments": {},
   "cell_type": "markdown",
   "id": "171c0b18",
   "metadata": {
    "papermill": {
     "duration": 0.00817,
     "end_time": "2023-04-02T02:53:26.337890",
     "exception": false,
     "start_time": "2023-04-02T02:53:26.329720",
     "status": "completed"
    },
    "tags": []
   },
   "source": [
    "## 2.4 Lemmazation \n",
    "réduire les mots à leur forme canonique, appelée \"lemme\". Contrairement à la stemming, qui se contente de tronquer les mots, la lemmatisation prend en compte le contexte et la signification des mots                                     \n",
    "Mot original : \"marche\"\n",
    "Lemme : \"marcher\""
   ]
  },
  {
   "cell_type": "code",
   "execution_count": 25,
   "id": "d22dee24",
   "metadata": {
    "execution": {
     "iopub.execute_input": "2023-04-02T02:53:26.357265Z",
     "iopub.status.busy": "2023-04-02T02:53:26.356497Z",
     "iopub.status.idle": "2023-04-02T02:53:41.540584Z",
     "shell.execute_reply": "2023-04-02T02:53:41.539580Z"
    },
    "papermill": {
     "duration": 15.196965,
     "end_time": "2023-04-02T02:53:41.543472",
     "exception": false,
     "start_time": "2023-04-02T02:53:26.346507",
     "status": "completed"
    },
    "tags": []
   },
   "outputs": [],
   "source": [
    "import spacy\n",
    "nlp = spacy.load('en_core_web_sm')"
   ]
  },
  {
   "cell_type": "code",
   "execution_count": 26,
   "id": "2d7b4fed",
   "metadata": {
    "execution": {
     "iopub.execute_input": "2023-04-02T02:53:41.563190Z",
     "iopub.status.busy": "2023-04-02T02:53:41.562080Z",
     "iopub.status.idle": "2023-04-02T02:54:04.067887Z",
     "shell.execute_reply": "2023-04-02T02:54:04.066738Z"
    },
    "papermill": {
     "duration": 22.518842,
     "end_time": "2023-04-02T02:54:04.070747",
     "exception": false,
     "start_time": "2023-04-02T02:53:41.551905",
     "status": "completed"
    },
    "tags": []
   },
   "outputs": [],
   "source": [
    "def lemmatization (text):\n",
    "    doc = nlp(text)\n",
    "    tokens = [token.lemma_.lower() for token in doc if not token.is_stop and not token.is_punct]\n",
    "    return ' '.join(tokens)\n",
    "data['tweet_clean'] = data['tweet_stem'].apply(lemmatization)"
   ]
  },
  {
   "cell_type": "markdown",
   "id": "aae7cbef",
   "metadata": {
    "papermill": {
     "duration": 0.008256,
     "end_time": "2023-04-02T02:54:04.087868",
     "exception": false,
     "start_time": "2023-04-02T02:54:04.079612",
     "status": "completed"
    },
    "tags": []
   },
   "source": [
    "## 2.5 Data Final"
   ]
  },
  {
   "cell_type": "code",
   "execution_count": 39,
   "id": "df56472e",
   "metadata": {
    "execution": {
     "iopub.execute_input": "2023-04-02T02:54:04.107412Z",
     "iopub.status.busy": "2023-04-02T02:54:04.106653Z",
     "iopub.status.idle": "2023-04-02T02:54:04.126397Z",
     "shell.execute_reply": "2023-04-02T02:54:04.125107Z"
    },
    "papermill": {
     "duration": 0.032712,
     "end_time": "2023-04-02T02:54:04.129085",
     "exception": false,
     "start_time": "2023-04-02T02:54:04.096373",
     "status": "completed"
    },
    "tags": []
   },
   "outputs": [],
   "source": [
    "data\n",
    "data=data.loc[:,[ 'tweet_clean', 'LABEL']]\n",
    "data = data[~(data['tweet_clean'].str.strip() == '')]\n",
    "data.to_csv('./Data/dataFinal.csv', index=False)"
   ]
  },
  {
   "cell_type": "code",
   "execution_count": 40,
   "id": "5263776f",
   "metadata": {},
   "outputs": [
    {
     "name": "stdout",
     "output_type": "stream",
     "text": [
      "0\n"
     ]
    }
   ],
   "source": [
    "data\n",
    "print( (data['tweet_clean'] == '').sum())\n"
   ]
  },
  {
   "cell_type": "markdown",
   "id": "0011b9c6",
   "metadata": {
    "papermill": {
     "duration": 0.008561,
     "end_time": "2023-04-02T02:54:04.146736",
     "exception": false,
     "start_time": "2023-04-02T02:54:04.138175",
     "status": "completed"
    },
    "tags": []
   },
   "source": [
    "# 3 TF-IDF"
   ]
  },
  {
   "attachments": {},
   "cell_type": "markdown",
   "id": "d7fc3cee",
   "metadata": {},
   "source": [
    "convertir un corpus de texte en une représentation numérique utilisable par les algorithmes de machine learning. Il utilise la mesure TF-IDF (Term Frequency-Inverse Document Frequency) pour attribuer des poids à chaque terme dans les documents du corpus,"
   ]
  },
  {
   "cell_type": "code",
   "execution_count": 35,
   "id": "c06495e4",
   "metadata": {
    "execution": {
     "iopub.execute_input": "2023-04-02T02:54:04.166949Z",
     "iopub.status.busy": "2023-04-02T02:54:04.166260Z",
     "iopub.status.idle": "2023-04-02T02:54:04.254638Z",
     "shell.execute_reply": "2023-04-02T02:54:04.253317Z"
    },
    "papermill": {
     "duration": 0.101546,
     "end_time": "2023-04-02T02:54:04.257329",
     "exception": false,
     "start_time": "2023-04-02T02:54:04.155783",
     "status": "completed"
    },
    "tags": []
   },
   "outputs": [
    {
     "data": {
      "text/plain": [
       "['vectorizer.pkl']"
      ]
     },
     "execution_count": 35,
     "metadata": {},
     "output_type": "execute_result"
    }
   ],
   "source": [
    "import joblib\n",
    "from sklearn.feature_extraction.text import TfidfVectorizer\n",
    "vectorizer = TfidfVectorizer()\n",
    "vectorizer.fit(data['tweet_clean'])\n",
    "vector = vectorizer.transform(data['tweet_clean'])\n",
    "\n",
    "# Enregistrer le vectorizer\n",
    "joblib.dump(vectorizer, 'vectorizer.pkl')\n",
    "\n",
    " "
   ]
  },
  {
   "cell_type": "code",
   "execution_count": 31,
   "id": "8d359cd7",
   "metadata": {},
   "outputs": [
    {
     "name": "stdout",
     "output_type": "stream",
     "text": [
      "  (0, 6444)\t0.3045555910597255\n",
      "  (0, 3628)\t0.5626155455615607\n",
      "  (0, 3316)\t0.5350474766947131\n",
      "  (0, 2244)\t0.3238612741066334\n",
      "  (0, 38)\t0.4467076366745674\n",
      "  (1, 5975)\t0.29806948869642014\n",
      "  (1, 5346)\t0.29806948869642014\n",
      "  (1, 2786)\t0.3173759207199378\n",
      "  (1, 1750)\t0.5596662267869166\n",
      "  (1, 1016)\t0.39401014406275664\n",
      "  (1, 491)\t0.39401014406275664\n",
      "  (1, 22)\t0.31283767693337117\n",
      "  (2, 6715)\t0.2427093251264762\n",
      "  (2, 6367)\t0.5562825541594294\n",
      "  (2, 6363)\t0.2195075839199462\n",
      "  (2, 5851)\t0.35600586846145404\n",
      "  (2, 4307)\t0.36680155141903603\n",
      "  (2, 3710)\t0.26773419051487557\n",
      "  (2, 2646)\t0.2243496207232328\n",
      "  (2, 1969)\t0.2821752785522984\n",
      "  (2, 636)\t0.3471851532228194\n",
      "  (3, 7144)\t0.6729586446255426\n",
      "  (3, 5111)\t0.6729586446255426\n",
      "  (3, 3769)\t0.3070070442962272\n",
      "  (4, 5707)\t0.2594085022248552\n",
      "  :\t:\n",
      "  (2880, 1246)\t0.31509714625890134\n",
      "  (2880, 950)\t0.31509714625890134\n",
      "  (2881, 6081)\t0.5169712843450999\n",
      "  (2881, 2692)\t0.40566531377957027\n",
      "  (2881, 2014)\t0.6418002026085182\n",
      "  (2881, 1001)\t0.39530854315378233\n",
      "  (2882, 6328)\t0.26248333224841375\n",
      "  (2882, 6270)\t0.37155982002356536\n",
      "  (2882, 4661)\t0.2675264987794103\n",
      "  (2882, 4337)\t0.3187244651161447\n",
      "  (2882, 3965)\t0.30636315595650293\n",
      "  (2882, 3262)\t0.43784751654201276\n",
      "  (2882, 1954)\t0.4011708816932353\n",
      "  (2882, 380)\t0.4163930605028352\n",
      "  (2883, 3749)\t0.6130074806124618\n",
      "  (2883, 1969)\t0.7900771030179032\n",
      "  (2884, 6841)\t0.37117307943837313\n",
      "  (2884, 5524)\t0.4646905199145618\n",
      "  (2884, 2180)\t0.530855862469754\n",
      "  (2884, 2106)\t0.44963757418894096\n",
      "  (2884, 224)\t0.40287885395084655\n",
      "  (2885, 6717)\t0.5307188093343322\n",
      "  (2885, 3769)\t0.3165585099711557\n",
      "  (2885, 2246)\t0.6598946709426502\n",
      "  (2885, 1001)\t0.4273959270338004\n"
     ]
    }
   ],
   "source": [
    "print(vector)"
   ]
  },
  {
   "cell_type": "code",
   "execution_count": 18,
   "id": "0819e439",
   "metadata": {},
   "outputs": [],
   "source": [
    "df = pd.DataFrame({'tweet': vector, 'y':data['LABEL']})\n",
    "\n",
    "# Enregistrer le DataFrame dans un fichier CSV\n"
   ]
  },
  {
   "cell_type": "markdown",
   "id": "3aa9e21f",
   "metadata": {
    "papermill": {
     "duration": 0.008487,
     "end_time": "2023-04-02T02:54:04.274593",
     "exception": false,
     "start_time": "2023-04-02T02:54:04.266106",
     "status": "completed"
    },
    "tags": []
   },
   "source": [
    "# 4 Split Dataset"
   ]
  },
  {
   "cell_type": "code",
   "execution_count": 42,
   "id": "b2cee38c",
   "metadata": {
    "execution": {
     "iopub.execute_input": "2023-04-02T02:54:04.294297Z",
     "iopub.status.busy": "2023-04-02T02:54:04.293591Z",
     "iopub.status.idle": "2023-04-02T02:54:04.302064Z",
     "shell.execute_reply": "2023-04-02T02:54:04.301183Z"
    },
    "papermill": {
     "duration": 0.021126,
     "end_time": "2023-04-02T02:54:04.304393",
     "exception": false,
     "start_time": "2023-04-02T02:54:04.283267",
     "status": "completed"
    },
    "tags": []
   },
   "outputs": [],
   "source": [
    "from sklearn.model_selection import train_test_split\n",
    "from scipy.sparse import csr_matrix\n",
    "\n",
    "\n",
    "\n",
    "from sklearn.feature_extraction.text import TfidfVectorizer\n",
    "data =pd.read_csv('./Data/dataFinal.csv')\n",
    "vectorizer=joblib.load('vectorizer.pkl')\n",
    "X = vectorizer.transform(data['tweet_clean'])\n",
    "\n",
    "y = data['LABEL']\n",
    "X_train, X_test, y_train, y_test = train_test_split(X,y,test_size = 0.2, random_state=42,stratify=y)"
   ]
  },
  {
   "cell_type": "markdown",
   "id": "c8b8a55d",
   "metadata": {
    "papermill": {
     "duration": 0.008384,
     "end_time": "2023-04-02T02:54:04.321683",
     "exception": false,
     "start_time": "2023-04-02T02:54:04.313299",
     "status": "completed"
    },
    "tags": []
   },
   "source": [
    "# 5 Model Random Forest"
   ]
  },
  {
   "cell_type": "code",
   "execution_count": 44,
   "id": "60d45162",
   "metadata": {
    "execution": {
     "iopub.execute_input": "2023-04-02T02:54:11.064323Z",
     "iopub.status.busy": "2023-04-02T02:54:11.063571Z",
     "iopub.status.idle": "2023-04-02T02:54:11.078909Z",
     "shell.execute_reply": "2023-04-02T02:54:11.076802Z"
    },
    "papermill": {
     "duration": 0.029619,
     "end_time": "2023-04-02T02:54:11.081927",
     "exception": false,
     "start_time": "2023-04-02T02:54:11.052308",
     "status": "completed"
    },
    "tags": []
   },
   "outputs": [
    {
     "name": "stdout",
     "output_type": "stream",
     "text": [
      "Accuracy Score Testing : 0.8266897746967071\n",
      "Classification Report : \n",
      "              precision    recall  f1-score   support\n",
      "\n",
      "           0       0.77      0.90      0.83       266\n",
      "           1       0.90      0.77      0.83       311\n",
      "\n",
      "    accuracy                           0.83       577\n",
      "   macro avg       0.83      0.83      0.83       577\n",
      "weighted avg       0.84      0.83      0.83       577\n",
      "\n"
     ]
    },
    {
     "data": {
      "image/png": "[encoded data removed]",
      "text/plain": [
       "<Figure size 640x480 with 2 Axes>"
      ]
     },
     "metadata": {},
     "output_type": "display_data"
    }
   ],
   "source": [
    "from sklearn import metrics\n",
    "from sklearn.metrics import classification_report, accuracy_score\n",
    "from sklearn.ensemble import RandomForestClassifier\n",
    "import seaborn as sns\n",
    "model1 = RandomForestClassifier()\n",
    "model1.fit(X_train, y_train)\n",
    "predictions = model1.predict(X_test)\n",
    "print(\"Accuracy Score Testing :\", accuracy_score(y_test, predictions))\n",
    "\n",
    "print(\"Classification Report : \")\n",
    "print(classification_report(y_test,predictions))\n",
    "cm = metrics.confusion_matrix(y_test, predictions)\n",
    "cm_matrixNB = pd.DataFrame(data=cm, )\n",
    "sns.heatmap(cm_matrixNB, annot=True, fmt='d', cmap='YlGnBu')\n",
    "plt.show()"
   ]
  },
  {
   "cell_type": "code",
   "execution_count": 35,
   "id": "c1f86a5d",
   "metadata": {},
   "outputs": [
    {
     "name": "stdout",
     "output_type": "stream",
     "text": [
      "Average CV Score:  0.8548804818370035\n"
     ]
    }
   ],
   "source": [
    "from sklearn.ensemble import RandomForestClassifier\n",
    "from sklearn.model_selection import KFold, cross_val_score\n",
    "data\n",
    "k_folds = KFold(n_splits = 10)\n",
    "clf=RandomForestClassifier( random_state=42 )\n",
    "scores = cross_val_score(clf, X_train, y_train, cv = k_folds)\n",
    "print(\"Average CV Score: \", scores.mean())\n",
    "# Average CV Score:  0.8548804818370035 /0.85"
   ]
  },
  {
   "attachments": {},
   "cell_type": "markdown",
   "id": "198f9623",
   "metadata": {},
   "source": [
    "# MultinomialNB model"
   ]
  },
  {
   "cell_type": "code",
   "execution_count": 33,
   "id": "2355a6b3",
   "metadata": {},
   "outputs": [
    {
     "name": "stdout",
     "output_type": "stream",
     "text": [
      "Accuracy Score Testing : 0.842560553633218\n",
      "Classification Report : \n",
      "              precision    recall  f1-score   support\n",
      "\n",
      "           0       0.89      0.75      0.81       266\n",
      "           1       0.81      0.92      0.86       312\n",
      "\n",
      "    accuracy                           0.84       578\n",
      "   macro avg       0.85      0.84      0.84       578\n",
      "weighted avg       0.85      0.84      0.84       578\n",
      "\n"
     ]
    },
    {
     "data": {
      "image/png": "[encoded data removed]",
      "text/plain": [
       "<Figure size 640x480 with 2 Axes>"
      ]
     },
     "metadata": {},
     "output_type": "display_data"
    }
   ],
   "source": [
    "from sklearn import metrics\n",
    "from sklearn.metrics import classification_report,accuracy_score\n",
    "import seaborn as sns\n",
    "import matplotlib.pyplot as plt\n",
    "from sklearn.metrics import classification_report\n",
    "from sklearn.naive_bayes import MultinomialNB\n",
    "model = MultinomialNB()\n",
    "model.fit(X_train,y_train)\n",
    "model.score(X_train,y_train)\n",
    "y_pred = model.predict(X_test)\n",
    "print(\"Accuracy Score Testing :\" ,accuracy_score(y_test, y_pred))\n",
    "print(\"Classification Report : \")\n",
    "print(classification_report(y_test,y_pred))\n",
    "cm = metrics.confusion_matrix(y_test, y_pred)\n",
    "cm_matrixNB = pd.DataFrame(data=cm, )\n",
    "sns.heatmap(cm_matrixNB, annot=True, fmt='d', cmap='YlGnBu')\n",
    "plt.show()"
   ]
  },
  {
   "attachments": {},
   "cell_type": "markdown",
   "id": "c984ffc4",
   "metadata": {},
   "source": [
    "Voting Classifier"
   ]
  },
  {
   "cell_type": "code",
   "execution_count": 36,
   "id": "b1c01735",
   "metadata": {},
   "outputs": [
    {
     "name": "stdout",
     "output_type": "stream",
     "text": [
      "Average CV Score:  0.8388556371165066\n"
     ]
    }
   ],
   "source": [
    "\n",
    "from sklearn.model_selection import KFold, cross_val_score\n",
    "\n",
    "k_folds = KFold(n_splits = 10)\n",
    "clf=MultinomialNB()\n",
    "scores = cross_val_score(clf, X_train, y_train, cv = k_folds)\n",
    "print(\"Average CV Score: \", scores.mean())\n",
    "# Average CV Score:  0.8388556371165066 /84"
   ]
  },
  {
   "cell_type": "code",
   "execution_count": 39,
   "id": "e2aaac58",
   "metadata": {},
   "outputs": [
    {
     "name": "stdout",
     "output_type": "stream",
     "text": [
      "\n",
      "Training Accuracy score: 0.9982668977469671\n",
      "Testing Accuracy score: 0.8806228373702422\n",
      "classification_report \n",
      "               precision    recall  f1-score   support\n",
      "\n",
      "           0       0.87      0.88      0.87       266\n",
      "           1       0.89      0.88      0.89       312\n",
      "\n",
      "    accuracy                           0.88       578\n",
      "   macro avg       0.88      0.88      0.88       578\n",
      "weighted avg       0.88      0.88      0.88       578\n",
      "\n"
     ]
    },
    {
     "data": {
      "image/png": "[encoded data removed]",
      "text/plain": [
       "<Figure size 640x480 with 2 Axes>"
      ]
     },
     "metadata": {},
     "output_type": "display_data"
    }
   ],
   "source": [
    "from sklearn.ensemble import VotingClassifier\n",
    "import joblib\n",
    "\n",
    "ensemble = VotingClassifier(estimators=[('RF', model1), ('NB', model)], voting='soft')\n",
    "ensemble.fit(X_train, y_train)\n",
    "\n",
    "# Enregistrer le vectorizer\n",
    "joblib.dump(ensemble, 'postclf.pkl')\n",
    "\n",
    "y_pred_train = ensemble.predict(X_train)\n",
    "y_pred_test = ensemble.predict(X_test)\n",
    "\n",
    "\n",
    "from sklearn.metrics import accuracy_score\n",
    "import seaborn as sns\n",
    "print(\"\\nTraining Accuracy score:\",accuracy_score(y_train, y_pred_train))\n",
    "print(\"Testing Accuracy score:\",accuracy_score(y_test, y_pred_test))\n",
    "print(\"classification_report \\n \"+classification_report(y_test, y_pred_test))\n",
    "cm = metrics.confusion_matrix(y_test,  y_pred_test)\n",
    "\n",
    "cm_matrixNB = pd.DataFrame(data=cm\n",
    "                        )\n",
    "sns.heatmap(cm_matrixNB, annot=True, fmt='d', cmap='YlGnBu')\n",
    "plt.show()\n"
   ]
  },
  {
   "cell_type": "code",
   "execution_count": 37,
   "id": "8dfacbdd",
   "metadata": {},
   "outputs": [
    {
     "name": "stdout",
     "output_type": "stream",
     "text": [
      "Average CV Score:  0.8635497835497835\n"
     ]
    }
   ],
   "source": [
    "from sklearn.ensemble import RandomForestClassifier\n",
    "from sklearn.model_selection import KFold, cross_val_score\n",
    "\n",
    "k_folds = KFold(n_splits = 10)\n",
    "clf = VotingClassifier(estimators=[('RF', model1), ('NB', model)], voting='soft')\n",
    "scores = cross_val_score(clf, X_train, y_train, cv = k_folds)\n",
    "print(\"Average CV Score: \", scores.mean())\n",
    "# Average CV Score:  0.8635497835497835 /87"
   ]
  }
 ],
 "metadata": {
  "kernelspec": {
   "display_name": "Python 3 (ipykernel)",
   "language": "python",
   "name": "python3"
  },
  "language_info": {
   "codemirror_mode": {
    "name": "ipython",
    "version": 3
   },
   "file_extension": ".py",
   "mimetype": "text/x-python",
   "name": "python",
   "nbconvert_exporter": "python",
   "pygments_lexer": "ipython3",
   "version": "3.11.0"
  },
  "papermill": {
   "default_parameters": {},
   "duration": 62.84625,
   "end_time": "2023-04-02T02:54:14.054183",
   "environment_variables": {},
   "exception": null,
   "input_path": "__notebook__.ipynb",
   "output_path": "__notebook__.ipynb",
   "parameters": {},
   "start_time": "2023-04-02T02:53:11.207933",
   "version": "2.4.0"
  }
 },
 "nbformat": 4,
 "nbformat_minor": 5
}

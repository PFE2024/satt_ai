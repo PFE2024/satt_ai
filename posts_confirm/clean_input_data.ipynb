{
 "cells": [
  {
   "cell_type": "code",
   "execution_count": 1,
   "metadata": {},
   "outputs": [],
   "source": [
    "import pandas as pd\n",
    "from Twitterpreprocessor import TwitterPreprocessor\n",
    "import matplotlib.pyplot as plt\n",
    "import tweepy\n",
    "from decouple import config\n",
    "import json\n",
    "import requests\n"
   ]
  },
  {
   "cell_type": "code",
   "execution_count": 74,
   "metadata": {},
   "outputs": [],
   "source": [
    "\n",
    "import joblib\n",
    "import spacy\n",
    "nlp = spacy.load('en_core_web_sm')\n",
    "consumer_key = config('TWITTER_CONSUMER_KEY')\n",
    "consumer_secret = config('TWITTER_CONSUMER_SECRET')\n",
    "tiktok_key=config('TIKTOK_KEY')\n",
    "\n",
    "def get_twitter_poste(id_poste,access_token,access_token_secret) -> str:\n",
    "        \n",
    "        auth = tweepy.OAuthHandler(consumer_key, consumer_secret)\n",
    "        auth.set_access_token(access_token, access_token_secret)\n",
    "        api = tweepy.API(auth, wait_on_rate_limit=True)\n",
    "        tweet = api.get_status(id_poste)\n",
    "        tweet = tweet._json\n",
    "        return tweet['text']\n",
    "\n",
    "def get_tiktok_poste(id_poste,refrech_token) -> str:\n",
    "        getUrl = f\"https://open-api.tiktok.com/oauth/refresh_token?client_key={tiktok_key}&grant_type=refresh_token&refresh_token={refrech_token}\"\n",
    "        resMedia = requests.get(getUrl)\n",
    "        accessToken = json.loads(resMedia.text)['data']['access_token']\n",
    "        api_endpoint = \"https://open-api.tiktok.com/video/query/\"\n",
    "        # Set your payload (data)\n",
    "        payload = {\n",
    "            \"access_token\":accessToken,       \n",
    "            \"filters\": {\n",
    "                \"video_ids\": [\n",
    "                   id_poste\n",
    "                ]\n",
    "            },\n",
    "        'fields': [\"duration\",\"title\",\"video_description\"],\n",
    "        }\n",
    "\n",
    "        response = requests.post(api_endpoint, json=payload)\n",
    "        v = response.json()['data']['videos'][0]\n",
    "        return v[\"video_description\"]+\" \"+v[\"title\"]\n",
    "from nltk.stem import PorterStemmer\n",
    "def porterstemmer(text):\n",
    "  ps = PorterStemmer()\n",
    "  text = ' '.join(ps.stem(word) for word in text.split() if word in text)\n",
    "  return text  \n",
    "def lemmatization (text):\n",
    "    doc = nlp(text)\n",
    "    tokens = [token.lemma_.lower() for token in doc if not token.is_stop and not token.is_punct]\n",
    "    return ' '.join(tokens)\n",
    "def get_twitter_inpute_data(id_poste,access_token,access_token_secret):\n",
    "    text=get_twitter_poste(id_poste,access_token,access_token_secret)\n",
    "    text=TwitterPreprocessor(str(text)).fully_preprocess().text\n",
    "    text=porterstemmer(text)\n",
    "    text=lemmatization(text)\n",
    "    text =[text]\n",
    "    vectorizer = joblib.load('vectorizer.pkl')\n",
    "    text = vectorizer.transform(text)\n",
    "    return text\n",
    "\n",
    "def get_tiktok_inpute_data(id_poste,refrech_token):\n",
    "    text=get_tiktok_poste(id_poste,refrech_token)\n",
    "    text=TwitterPreprocessor(str(text)).fully_preprocess().text\n",
    "    text=porterstemmer(text)\n",
    "    text=lemmatization(text)\n",
    "    text =[text]\n",
    "    vectorizer = joblib.load('vectorizer.pkl')\n",
    "    text = vectorizer.transform(text)\n",
    "    return text"
   ]
  },
  {
   "cell_type": "code",
   "execution_count": 75,
   "metadata": {},
   "outputs": [
    {
     "name": "stdout",
     "output_type": "stream",
     "text": [
      "{'data': {'videos': [{'video_description': '', 'duration': 8, 'title': ''}], 'cursor': 0, 'has_more': False}, 'error': {'code': 0, 'message': ''}}\n",
      "\n"
     ]
    }
   ],
   "source": [
    "\n",
    "print(get_tiktok_inpute_data(\"7112372202607086853\",\"rft.246dfc618e0de9e8a8997ee0d2792bbdSaNq8zdBFdPdX1C7NoHKydWXtoyA!4923\"))"
   ]
  },
  {
   "cell_type": "code",
   "execution_count": 65,
   "metadata": {},
   "outputs": [
    {
     "name": "stdout",
     "output_type": "stream",
     "text": [
      "{'access_token': 'act.9888fad998875f6827a9c63b22ec1b61pggefqTRm2Yg1q20dNbeZMUmJkh8!4910', 'captcha': '', 'desc_url': '', 'description': '', 'error_code': 0, 'expires_in': 86400, 'log_id': '202305221510239616FD7C0BDB887B41A8', 'open_id': '81d861ee-27e3-4204-82bd-054ae3500f43', 'refresh_expires_in': 2745628, 'refresh_token': 'rft.246dfc618e0de9e8a8997ee0d2792bbdSaNq8zdBFdPdX1C7NoHKydWXtoyA!4923', 'scope': 'user.info.basic,video.list'}\n",
      "{'data': {'videos': [{'video_description': '', 'duration': 8, 'title': ''}], 'cursor': 0, 'has_more': False}, 'error': {'code': 0, 'message': ''}}\n"
     ]
    }
   ],
   "source": [
    "import requests\n",
    "refrech_token=\"rft.246dfc618e0de9e8a8997ee0d2792bbdSaNq8zdBFdPdX1C7NoHKydWXtoyA!4923\"\n",
    "getUrl = f\"https://open-api.tiktok.com/oauth/refresh_token?client_key={tiktok_key}&grant_type=refresh_token&refresh_token={refrech_token}\"\n",
    "resMedia = requests.get(getUrl)\n",
    "print(json.loads(resMedia.text)['data'])\n",
    "accessToken = json.loads(resMedia.text)['data']['access_token']\n",
    "api_endpoint = \"https://open-api.tiktok.com/video/query/\"\n",
    "\n",
    "\n",
    "# Set your headers\n",
    "headers = {\n",
    "    \"Authorization\": \"Bearer \" + accessToken\n",
    "}\n",
    "\n",
    "# Set your payload (data)\n",
    "payload = {\n",
    "    \"access_token\":accessToken,\n",
    "            \n",
    "    \"filters\": {\n",
    "        \"video_ids\": [\n",
    "            \"7112372202607086853\"\n",
    "        \n",
    "        ]\n",
    "    },\n",
    "  'fields': [\"duration\",\"title\",\"video_description\"],\n",
    "}\n",
    "\n",
    "response = requests.post(api_endpoint, json=payload)\n",
    "videoInfoResponse = response.json()\n",
    "print(videoInfoResponse)\n"
   ]
  }
 ],
 "metadata": {
  "kernelspec": {
   "display_name": "venv",
   "language": "python",
   "name": "python3"
  },
  "language_info": {
   "codemirror_mode": {
    "name": "ipython",
    "version": 3
   },
   "file_extension": ".py",
   "mimetype": "text/x-python",
   "name": "python",
   "nbconvert_exporter": "python",
   "pygments_lexer": "ipython3",
   "version": "3.10.11"
  },
  "orig_nbformat": 4
 },
 "nbformat": 4,
 "nbformat_minor": 2
}
